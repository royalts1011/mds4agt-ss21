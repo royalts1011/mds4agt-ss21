{
 "cells": [
  {
   "cell_type": "code",
   "execution_count": 1,
   "metadata": {
    "collapsed": true
   },
   "outputs": [
    {
     "name": "stdout",
     "output_type": "stream",
     "text": [
      "   Time (s)  Acceleration x (m/s^2)  Acceleration y (m/s^2)  \\\n",
      "0  0.038554                0.417412                1.421118   \n",
      "1  0.041067                0.407830                1.406745   \n",
      "2  0.043580                0.431785                1.340270   \n",
      "3  0.046093                0.341356                1.273197   \n",
      "4  0.048606                0.322192                1.301943   \n",
      "\n",
      "   Acceleration z (m/s^2)  \n",
      "0                9.497474  \n",
      "1                9.597485  \n",
      "2                9.583112  \n",
      "3                9.687914  \n",
      "4                9.811281  \n",
      "   Time (s)  Gyroscope x (rad/s)  Gyroscope y (rad/s)  Gyroscope z (rad/s)\n",
      "0  0.043580            -0.078696             0.168844            -0.075900\n",
      "1  0.046093            -0.075501             0.169910            -0.083357\n",
      "2  0.048606            -0.073370             0.153931            -0.079096\n",
      "3  0.051119            -0.060587             0.148604            -0.078031\n",
      "4  0.053632            -0.052065             0.143278            -0.081226\n",
      "[[0.03855355 0.41741213 1.42111766 9.49747372]\n",
      " [0.04106667 0.40783021 1.40674472 9.59748459]\n",
      " [0.04357985 0.43178502 1.34027028 9.58311176]\n",
      " [0.04609297 0.34135568 1.27319682 9.68791389]\n",
      " [0.04860615 0.32219186 1.30194259 9.8112812 ]]\n",
      "[[ 0.04357985 -0.07869634  0.16884427 -0.07590003]\n",
      " [ 0.04609297 -0.07550056  0.16990954 -0.08335687]\n",
      " [ 0.04860615 -0.07337002  0.15393057 -0.07909582]\n",
      " [ 0.05111933 -0.06058686  0.14860426 -0.07803056]\n",
      " [ 0.05363245 -0.05206475  0.14327794 -0.08122634]]\n"
     ]
    }
   ],
   "source": [
    "import reader as rd"
   ]
  },
  {
   "cell_type": "code",
   "execution_count": 2,
   "outputs": [],
   "source": [
    "'''\n",
    "Set Datafolder and load the Data here.\n",
    "'''\n",
    "acc, gyro = rd.csv_to_array(folder='dataset/track1')\n",
    "sampling_rate = rd.get_sample_freq(acc)\n",
    "\n"
   ],
   "metadata": {
    "collapsed": false,
    "pycharm": {
     "name": "#%%\n"
    }
   }
  },
  {
   "cell_type": "code",
   "execution_count": 4,
   "outputs": [],
   "source": [
    "#test = acc[len(acc)-2][0]"
   ],
   "metadata": {
    "collapsed": false,
    "pycharm": {
     "name": "#%%\n"
    }
   }
  }
 ],
 "metadata": {
  "kernelspec": {
   "display_name": "Python 3",
   "language": "python",
   "name": "python3"
  },
  "language_info": {
   "codemirror_mode": {
    "name": "ipython",
    "version": 2
   },
   "file_extension": ".py",
   "mimetype": "text/x-python",
   "name": "python",
   "nbconvert_exporter": "python",
   "pygments_lexer": "ipython2",
   "version": "2.7.6"
  }
 },
 "nbformat": 4,
 "nbformat_minor": 0
}