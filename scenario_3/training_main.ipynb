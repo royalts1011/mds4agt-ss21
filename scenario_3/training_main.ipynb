{
 "cells": [
  {
   "cell_type": "code",
   "execution_count": 55,
   "source": [
    "from ds_loader import Dataset_Handler\r\n",
    "import torch\r\n",
    "import torch.nn as nn\r\n",
    "import matplotlib.pyplot as plt\r\n",
    "from sklearn.metrics import f1_score\r\n",
    "import torch.nn.functional as F\r\n",
    "import net\r\n",
    "import numpy as np"
   ],
   "outputs": [],
   "metadata": {
    "collapsed": false,
    "pycharm": {
     "name": "#%%\n"
    }
   }
  },
  {
   "cell_type": "code",
   "execution_count": 56,
   "source": [
    "'''\r\n",
    "Initialise some things\r\n",
    "'''\r\n",
    "class Config():\r\n",
    "    batch_size = 32\r\n",
    "    epochs = 30\r\n",
    "    learn_rate = 0.001\r\n",
    "    CLASSES = 5\r\n",
    "    generate = False\r\n",
    "\r\n",
    "mod_channel_dict = {\r\n",
    "    0 : (\"baseline.npy\", 11),\r\n",
    "    1 : (\"modality1.npy\", 6),\r\n",
    "    2 : (\"modality2.npy\", 2),\r\n",
    "    3 : (\"modality3.npy\", 1),\r\n",
    "    4 : (\"modality4.npy\", 2)\r\n",
    "}\r\n",
    "\r\n",
    "dsh = Dataset_Handler(dataset_folder='sleep_lab_data', target_hertz=50)\r\n",
    "# dsh = Dataset_Handler(dataset_folder='sleep_data_downsampling_AllSensorChannels_ lowfrequency_10HZ', target_hertz=10)\r\n"
   ],
   "outputs": [],
   "metadata": {
    "collapsed": false,
    "pycharm": {
     "name": "#%%\n"
    }
   }
  },
  {
   "cell_type": "code",
   "execution_count": 57,
   "source": [
    "'''\r\n",
    "Generate the data and store localy\r\n",
    "'''\r\n",
    "if Config.generate: dsh.generate_dataset()"
   ],
   "outputs": [],
   "metadata": {
    "collapsed": false,
    "pycharm": {
     "name": "#%%\n"
    }
   }
  },
  {
   "cell_type": "code",
   "execution_count": 58,
   "source": [
    "'''\r\n",
    "Choose mod for string of modality and for the corresponding input channels\r\n",
    "'''\r\n",
    "mod = 4\r\n",
    "\r\n",
    "modality_string = mod_channel_dict[mod][0]\r\n",
    "input_channels = mod_channel_dict[mod][1]"
   ],
   "outputs": [],
   "metadata": {}
  },
  {
   "cell_type": "code",
   "execution_count": 59,
   "source": [
    "'''\r\n",
    "Load Data(numpy array) from disk)\r\n",
    "if you change modality change network input channels too\r\n",
    "'''\r\n",
    "train_dl, test_dl = dsh.get_dataloader(hertz=50,modality=modality_string, batch_size=Config.batch_size)\r\n",
    "# train_dl, test_dl = dsh.get_dataloader(hertz=10,modality=modality_string, batch_size=Config.batch_size)"
   ],
   "outputs": [
    {
     "output_type": "stream",
     "name": "stdout",
     "text": [
      "{'WK': 1223, 'N1': 325, 'N2': 1871, 'N3': 1462, 'REM': 1158}\n",
      "{'WK': 1223, 'N1': 1300, 'N2': 1871, 'N3': 1462, 'REM': 1158}\n"
     ]
    }
   ],
   "metadata": {
    "collapsed": false,
    "pycharm": {
     "name": "#%%\n"
    }
   }
  },
  {
   "cell_type": "code",
   "execution_count": 60,
   "source": [
    "# check for device\r\n",
    "device = 'cuda' if torch.cuda.is_available() else 'cpu'\r\n",
    "\r\n",
    "model = net.SimpleNet(input_channels)\r\n",
    "model.to(device)\r\n",
    "\r\n",
    "# define optimizer\r\n",
    "optimizer = torch.optim.Adam(model.parameters(), lr=Config.learn_rate)\r\n",
    "# define loss function\r\n",
    "loss_function = nn.CrossEntropyLoss()\r\n",
    "\r\n",
    "Config.batch_size = 258\r\n",
    "# check if model is on correct device\r\n",
    "next(model.parameters()).is_cuda"
   ],
   "outputs": [
    {
     "output_type": "execute_result",
     "data": {
      "text/plain": [
       "False"
      ]
     },
     "metadata": {},
     "execution_count": 60
    }
   ],
   "metadata": {}
  },
  {
   "cell_type": "code",
   "execution_count": 61,
   "source": [
    "# import hiddenlayer as hl\r\n",
    "\r\n",
    "# # Build HiddenLayer graph\r\n",
    "# hl_graph = hl.build_graph(model, torch.zeros([1, 11, 1, 1500]))\r\n",
    "\r\n",
    "# # Use a different color theme\r\n",
    "# hl_graph.theme = hl.graph.THEMES[\"blue\"].copy()  # Two options: basic and blue\r\n",
    "# hl_graph"
   ],
   "outputs": [],
   "metadata": {
    "collapsed": false,
    "pycharm": {
     "name": "#%%\n"
    }
   }
  },
  {
   "cell_type": "code",
   "execution_count": 62,
   "source": [
    "# Traning Process\r\n",
    "loss_ls_train = []\r\n",
    "best_epoch_loss = np.infty\r\n",
    "model.train()\r\n",
    "\r\n",
    "for epoch in range(Config.epochs):\r\n",
    "    epoch_loss_sum = 0\r\n",
    "    for data, labels in train_dl:\r\n",
    "\r\n",
    "        data, labels = data.to(device), labels.to(device)\r\n",
    "        optimizer.zero_grad()\r\n",
    "        data = data.permute(0, 2, 1)\r\n",
    "        data = data.unsqueeze(2)\r\n",
    "\r\n",
    "        prediction = model(data)\r\n",
    "\r\n",
    "        loss = loss_function(prediction, labels)\r\n",
    "        loss.backward()\r\n",
    "        optimizer.step()\r\n",
    "\r\n",
    "        epoch_loss_sum += loss.data.item()\r\n",
    "        epoch_loss_average = epoch_loss_sum/len(train_dl)\r\n",
    "    loss_ls_train.append(epoch_loss_average)\r\n",
    "\r\n",
    "\r\n",
    "    if epoch_loss_average < best_epoch_loss:\r\n",
    "\r\n",
    "        best_epoch_loss = epoch_loss_average\r\n",
    "        state = {'model_state': model.state_dict(),\r\n",
    "                 'model_name': type(model).__name__,\r\n",
    "                 'optimizer_state': optimizer.state_dict()}\r\n",
    "\r\n",
    "        torch.save(state, \"weights.pt\")\r\n",
    "        print(\"Yea we found better weights --> SAVE!!!\")\r\n",
    "\r\n",
    "    print('===> Epoch: {} loss: {:.4f}'.format(epoch, epoch_loss_average))\r\n",
    "\r\n",
    "plt.plot(loss_ls_train)\r\n",
    "plt.show()\r\n"
   ],
   "outputs": [
    {
     "output_type": "stream",
     "name": "stdout",
     "text": [
      "Yea we found better weights --> SAVE!!!\n",
      "===> Epoch: 0 loss: 1.3747\n",
      "Yea we found better weights --> SAVE!!!\n",
      "===> Epoch: 1 loss: 1.2540\n",
      "Yea we found better weights --> SAVE!!!\n",
      "===> Epoch: 2 loss: 1.2091\n",
      "Yea we found better weights --> SAVE!!!\n",
      "===> Epoch: 3 loss: 1.1600\n",
      "Yea we found better weights --> SAVE!!!\n",
      "===> Epoch: 4 loss: 1.1076\n",
      "Yea we found better weights --> SAVE!!!\n",
      "===> Epoch: 5 loss: 1.0465\n",
      "Yea we found better weights --> SAVE!!!\n",
      "===> Epoch: 6 loss: 0.9781\n",
      "Yea we found better weights --> SAVE!!!\n",
      "===> Epoch: 7 loss: 0.8650\n",
      "Yea we found better weights --> SAVE!!!\n",
      "===> Epoch: 8 loss: 0.7250\n",
      "Yea we found better weights --> SAVE!!!\n",
      "===> Epoch: 9 loss: 0.5338\n",
      "Yea we found better weights --> SAVE!!!\n",
      "===> Epoch: 10 loss: 0.3475\n",
      "Yea we found better weights --> SAVE!!!\n",
      "===> Epoch: 11 loss: 0.2537\n",
      "Yea we found better weights --> SAVE!!!\n",
      "===> Epoch: 12 loss: 0.1476\n",
      "Yea we found better weights --> SAVE!!!\n",
      "===> Epoch: 13 loss: 0.1415\n",
      "===> Epoch: 14 loss: 0.1472\n",
      "Yea we found better weights --> SAVE!!!\n",
      "===> Epoch: 15 loss: 0.1034\n",
      "Yea we found better weights --> SAVE!!!\n",
      "===> Epoch: 16 loss: 0.0547\n",
      "===> Epoch: 17 loss: 0.1268\n",
      "===> Epoch: 18 loss: 0.0786\n",
      "===> Epoch: 19 loss: 0.0682\n",
      "===> Epoch: 20 loss: 0.1415\n",
      "===> Epoch: 21 loss: 0.0583\n",
      "===> Epoch: 22 loss: 0.0822\n",
      "===> Epoch: 23 loss: 0.0825\n",
      "Yea we found better weights --> SAVE!!!\n",
      "===> Epoch: 24 loss: 0.0300\n",
      "Yea we found better weights --> SAVE!!!\n",
      "===> Epoch: 25 loss: 0.0169\n",
      "Yea we found better weights --> SAVE!!!\n",
      "===> Epoch: 26 loss: 0.0055\n",
      "Yea we found better weights --> SAVE!!!\n",
      "===> Epoch: 27 loss: 0.0010\n",
      "Yea we found better weights --> SAVE!!!\n",
      "===> Epoch: 28 loss: 0.0004\n",
      "Yea we found better weights --> SAVE!!!\n",
      "===> Epoch: 29 loss: 0.0001\n"
     ]
    },
    {
     "output_type": "display_data",
     "data": {
      "text/plain": [
       "<Figure size 432x288 with 1 Axes>"
      ],
      "image/png": "[encoded data removed]"
     },
     "metadata": {
      "needs_background": "light"
     }
    }
   ],
   "metadata": {
    "collapsed": false,
    "pycharm": {
     "name": "#%%\n"
    }
   }
  },
  {
   "cell_type": "code",
   "execution_count": 63,
   "source": [
    "model.load_state_dict(torch.load(\"weights.pt\")['model_state'])\r\n",
    "model.eval()\r\n",
    "\r\n",
    "correct_pred = 0\r\n",
    "num_pred = 0\r\n",
    "map_sum = 0\r\n",
    "f1_sum = 0\r\n",
    "count = 0\r\n",
    "\r\n",
    "\r\n",
    "for data, label in test_dl:\r\n",
    "    data, label = data.to(device), label.to(device)\r\n",
    "\r\n",
    "    data = data.permute(0, 2, 1)\r\n",
    "    data = data.unsqueeze(2)\r\n",
    "    softmax_v = F.softmax(model(data), dim=1)\r\n",
    "    pred = torch.argmax(softmax_v, dim=1)\r\n",
    "\r\n",
    "    num_pred += len(label)\r\n",
    "    correct_pred = correct_pred + torch.eq(pred,label).sum().data.item()\r\n",
    "\r\n",
    "    #tmp_map, _ = computeMeanAveragePrecision(label.detach().cpu().numpy(), softmax_v.detach().cpu().numpy())\r\n",
    "    #map_sum += tmp_map\r\n",
    "    count +=1\r\n",
    "\r\n",
    "    f1_sum += f1_score(y_true=label.detach().cpu().numpy(), y_pred=pred.detach().cpu().numpy(), average='micro' )\r\n",
    "\r\n",
    "print('Number of correct predictions: ' + str(correct_pred))\r\n",
    "print('Number of Predictions: ' + str(num_pred))\r\n",
    "print('Accuracy: ' + str(correct_pred/num_pred))\r\n",
    "print('F1-score: ' + str(f1_sum/count))\r\n",
    "# print('MAP: ' + str(map_sum/count))"
   ],
   "outputs": [
    {
     "output_type": "stream",
     "name": "stdout",
     "text": [
      "Number of correct predictions: 1137\n",
      "Number of Predictions: 2104\n",
      "Accuracy: 0.5403992395437263\n",
      "F1-score: 0.5402462121212122\n"
     ]
    }
   ],
   "metadata": {}
  },
  {
   "cell_type": "code",
   "execution_count": null,
   "source": [],
   "outputs": [],
   "metadata": {}
  }
 ],
 "metadata": {
  "interpreter": {
   "hash": "4292a5c914fcd05fb4d8ac8c1d5d28a6c40b7905c45267b6117bb260a6ea755d"
  },
  "kernelspec": {
   "display_name": "Python 3.6.8 64-bit ('mir-mds': virtualenvwrapper)",
   "name": "python3"
  },
  "language_info": {
   "codemirror_mode": {
    "name": "ipython",
    "version": 3
   },
   "file_extension": ".py",
   "mimetype": "text/x-python",
   "name": "python",
   "nbconvert_exporter": "python",
   "pygments_lexer": "ipython3",
   "version": "3.6.8"
  }
 },
 "nbformat": 4,
 "nbformat_minor": 2
}