{
 "cells": [
  {
   "cell_type": "code",
   "execution_count": 25,
   "metadata": {
    "collapsed": false,
    "pycharm": {
     "name": "#%%\n"
    }
   },
   "outputs": [],
   "source": [
    "from ds_loader import Dataset_Handler\n",
    "import torch\n",
    "import torch.nn as nn\n",
    "import matplotlib.pyplot as plt\n",
    "from sklearn.metrics import f1_score\n",
    "import torch.nn.functional as F\n",
    "import net\n",
    "import numpy as np"
   ]
  },
  {
   "cell_type": "code",
   "execution_count": 26,
   "metadata": {
    "collapsed": false,
    "pycharm": {
     "name": "#%%\n"
    }
   },
   "outputs": [],
   "source": [
    "'''\r\n",
    "Initialise some things\r\n",
    "'''\r\n",
    "class Config():\r\n",
    "    batch_size = 32\r\n",
    "    epochs = 50\r\n",
    "    learn_rate = 0.0001\r\n",
    "    CLASSES = 5\r\n",
    "    generate = False\r\n",
    "\r\n",
    "mod_channel_dict = {\r\n",
    "    0 : (\"baseline.npy\", 11),\r\n",
    "    1 : (\"modality1.npy\", 6),\r\n",
    "    2 : (\"modality2.npy\", 2),\r\n",
    "    3 : (\"modality3.npy\", 1),\r\n",
    "    4 : (\"modality4.npy\", 2)\r\n",
    "}\r\n",
    "\r\n",
    "dsh = Dataset_Handler(dataset_folder='sleep_lab_data', target_hertz=50)\r\n",
    "# dsh = Dataset_Handler(dataset_folder='sleep_data_downsampling_AllSensorChannels_ lowfrequency_10HZ', target_hertz=10)\r\n"
   ]
  },
  {
   "cell_type": "code",
   "execution_count": 27,
   "metadata": {
    "collapsed": false,
    "pycharm": {
     "name": "#%%\n"
    }
   },
   "outputs": [],
   "source": [
    "'''\n",
    "Generate the data and store localy\n",
    "'''\n",
    "if Config.generate: dsh.generate_dataset()"
   ]
  },
  {
   "cell_type": "code",
   "execution_count": 28,
   "metadata": {},
   "outputs": [],
   "source": [
    "'''\r\n",
    "Choose mod for string of modality and for the corresponding input channels\r\n",
    "'''\r\n",
    "mod = 0\r\n",
    "\r\n",
    "modality_string = mod_channel_dict[mod][0]\r\n",
    "input_channels = mod_channel_dict[mod][1]"
   ]
  },
  {
   "cell_type": "code",
   "execution_count": 29,
   "metadata": {
    "collapsed": false,
    "pycharm": {
     "name": "#%%\n"
    }
   },
   "outputs": [
    {
     "name": "stdout",
     "output_type": "stream",
     "text": [
      "{'WK': 1223, 'N1': 325, 'N2': 1871, 'N3': 1462, 'REM': 1158}\n",
      "{'WK': 1223, 'N1': 1300, 'N2': 1871, 'N3': 1462, 'REM': 1158}\n"
     ]
    }
   ],
   "source": [
    "'''\r\n",
    "Load Data(numpy array) from disk)\r\n",
    "if you change modality change network input channels too\r\n",
    "'''\r\n",
    "train_dl, test_dl = dsh.get_dataloader(hertz=50,modality=modality_string, batch_size=Config.batch_size)\r\n",
    "# train_dl, test_dl = dsh.get_dataloader(hertz=10,modality=modality_string, batch_size=Config.batch_size)"
   ]
  },
  {
   "cell_type": "code",
   "execution_count": 30,
   "metadata": {},
   "outputs": [
    {
     "data": {
      "text/plain": [
       "False"
      ]
     },
     "execution_count": 30,
     "metadata": {},
     "output_type": "execute_result"
    }
   ],
   "source": [
    "# check for device\r\n",
    "device = 'cuda' if torch.cuda.is_available() else 'cpu'\r\n",
    "\r\n",
    "model = net.SimpleNet(input_channels)\r\n",
    "model.to(device)\r\n",
    "\r\n",
    "# define optimizer\r\n",
    "optimizer = torch.optim.Adam(model.parameters(), lr=Config.learn_rate)\r\n",
    "# define loss function\r\n",
    "loss_function = nn.CrossEntropyLoss()\r\n",
    "\r\n",
    "Config.batch_size = 258\r\n",
    "# check if model is on correct device\r\n",
    "next(model.parameters()).is_cuda\r\n"
   ]
  },
  {
   "cell_type": "code",
   "execution_count": 31,
   "metadata": {
    "collapsed": false,
    "pycharm": {
     "is_executing": true,
     "name": "#%%\n"
    }
   },
   "outputs": [
    {
     "name": "stdout",
     "output_type": "stream",
     "text": [
      "Yea we found better weights --> SAVE!!!\n",
      "===> Epoch: 0 loss: 1.3984\n",
      "Yea we found better weights --> SAVE!!!\n",
      "===> Epoch: 1 loss: 1.0103\n",
      "Yea we found better weights --> SAVE!!!\n",
      "===> Epoch: 2 loss: 0.8021\n",
      "Yea we found better weights --> SAVE!!!\n",
      "===> Epoch: 3 loss: 0.7076\n",
      "Yea we found better weights --> SAVE!!!\n",
      "===> Epoch: 4 loss: 0.6567\n",
      "Yea we found better weights --> SAVE!!!\n",
      "===> Epoch: 5 loss: 0.5874\n",
      "Yea we found better weights --> SAVE!!!\n",
      "===> Epoch: 6 loss: 0.5446\n",
      "Yea we found better weights --> SAVE!!!\n",
      "===> Epoch: 7 loss: 0.4876\n",
      "Yea we found better weights --> SAVE!!!\n",
      "===> Epoch: 8 loss: 0.4345\n",
      "Yea we found better weights --> SAVE!!!\n",
      "===> Epoch: 9 loss: 0.3962\n",
      "Yea we found better weights --> SAVE!!!\n",
      "===> Epoch: 10 loss: 0.3632\n",
      "Yea we found better weights --> SAVE!!!\n",
      "===> Epoch: 11 loss: 0.3209\n",
      "Yea we found better weights --> SAVE!!!\n",
      "===> Epoch: 12 loss: 0.2807\n",
      "Yea we found better weights --> SAVE!!!\n",
      "===> Epoch: 13 loss: 0.2396\n",
      "Yea we found better weights --> SAVE!!!\n",
      "===> Epoch: 14 loss: 0.2147\n",
      "Yea we found better weights --> SAVE!!!\n",
      "===> Epoch: 15 loss: 0.1842\n",
      "Yea we found better weights --> SAVE!!!\n",
      "===> Epoch: 16 loss: 0.1656\n",
      "Yea we found better weights --> SAVE!!!\n",
      "===> Epoch: 17 loss: 0.1404\n",
      "Yea we found better weights --> SAVE!!!\n",
      "===> Epoch: 18 loss: 0.1206\n",
      "Yea we found better weights --> SAVE!!!\n",
      "===> Epoch: 19 loss: 0.0844\n",
      "Yea we found better weights --> SAVE!!!\n",
      "===> Epoch: 20 loss: 0.0765\n",
      "Yea we found better weights --> SAVE!!!\n",
      "===> Epoch: 21 loss: 0.0613\n",
      "===> Epoch: 22 loss: 0.0740\n",
      "Yea we found better weights --> SAVE!!!\n",
      "===> Epoch: 23 loss: 0.0422\n",
      "Yea we found better weights --> SAVE!!!\n",
      "===> Epoch: 24 loss: 0.0351\n",
      "Yea we found better weights --> SAVE!!!\n",
      "===> Epoch: 25 loss: 0.0252\n",
      "Yea we found better weights --> SAVE!!!\n",
      "===> Epoch: 26 loss: 0.0216\n",
      "Yea we found better weights --> SAVE!!!\n",
      "===> Epoch: 27 loss: 0.0186\n",
      "Yea we found better weights --> SAVE!!!\n",
      "===> Epoch: 28 loss: 0.0164\n",
      "Yea we found better weights --> SAVE!!!\n",
      "===> Epoch: 29 loss: 0.0121\n",
      "Yea we found better weights --> SAVE!!!\n",
      "===> Epoch: 30 loss: 0.0105\n",
      "===> Epoch: 31 loss: 0.0109\n",
      "Yea we found better weights --> SAVE!!!\n",
      "===> Epoch: 32 loss: 0.0077\n",
      "===> Epoch: 33 loss: 0.0086\n",
      "===> Epoch: 34 loss: 0.0587\n",
      "===> Epoch: 35 loss: 0.0864\n",
      "===> Epoch: 36 loss: 0.0185\n",
      "===> Epoch: 37 loss: 0.0077\n",
      "Yea we found better weights --> SAVE!!!\n",
      "===> Epoch: 38 loss: 0.0056\n",
      "Yea we found better weights --> SAVE!!!\n",
      "===> Epoch: 39 loss: 0.0046\n",
      "Yea we found better weights --> SAVE!!!\n",
      "===> Epoch: 40 loss: 0.0039\n",
      "Yea we found better weights --> SAVE!!!\n",
      "===> Epoch: 41 loss: 0.0034\n",
      "Yea we found better weights --> SAVE!!!\n",
      "===> Epoch: 42 loss: 0.0030\n",
      "Yea we found better weights --> SAVE!!!\n",
      "===> Epoch: 43 loss: 0.0027\n",
      "Yea we found better weights --> SAVE!!!\n",
      "===> Epoch: 44 loss: 0.0024\n",
      "Yea we found better weights --> SAVE!!!\n",
      "===> Epoch: 45 loss: 0.0022\n",
      "Yea we found better weights --> SAVE!!!\n",
      "===> Epoch: 46 loss: 0.0019\n",
      "Yea we found better weights --> SAVE!!!\n",
      "===> Epoch: 47 loss: 0.0018\n",
      "Yea we found better weights --> SAVE!!!\n",
      "===> Epoch: 48 loss: 0.0016\n",
      "Yea we found better weights --> SAVE!!!\n",
      "===> Epoch: 49 loss: 0.0015\n"
     ]
    },
    {
     "data": {
      "image/png": "[encoded data removed]",
      "text/plain": [
       "<Figure size 432x288 with 1 Axes>"
      ]
     },
     "metadata": {
      "needs_background": "light"
     },
     "output_type": "display_data"
    }
   ],
   "source": [
    "# Traning Process\n",
    "loss_ls_train = []\n",
    "best_epoch_loss = np.infty\n",
    "model.train()\n",
    "\n",
    "for epoch in range(Config.epochs):\n",
    "    epoch_loss_sum = 0\n",
    "    for data, labels in train_dl:\n",
    "\n",
    "        data, labels = data.to(device), labels.to(device)\n",
    "        optimizer.zero_grad()\n",
    "        data = data.permute(0, 2, 1)\n",
    "        data = data.unsqueeze(2)\n",
    "\n",
    "        prediction = model(data)\n",
    "\n",
    "        loss = loss_function(prediction, labels)\n",
    "        loss.backward()\n",
    "        optimizer.step()\n",
    "\n",
    "        epoch_loss_sum += loss.data.item()\n",
    "        epoch_loss_average = epoch_loss_sum/len(train_dl)\n",
    "    loss_ls_train.append(epoch_loss_average)\n",
    "\n",
    "\n",
    "    if epoch_loss_average < best_epoch_loss:\n",
    "\n",
    "        best_epoch_loss = epoch_loss_average\n",
    "        state = {'model_state': model.state_dict(),\n",
    "                 'model_name': type(model).__name__,\n",
    "                 'optimizer_state': optimizer.state_dict()}\n",
    "\n",
    "        torch.save(state, \"weights.pt\")\n",
    "        print(\"Yea we found better weights --> SAVE!!!\")\n",
    "\n",
    "    print('===> Epoch: {} loss: {:.4f}'.format(epoch, epoch_loss_average))\n",
    "\n",
    "plt.plot(loss_ls_train)\n",
    "plt.show()\n"
   ]
  },
  {
   "cell_type": "code",
   "execution_count": 32,
   "metadata": {
    "pycharm": {
     "is_executing": true
    }
   },
   "outputs": [
    {
     "name": "stdout",
     "output_type": "stream",
     "text": [
      "Number of correct predictions: 1456\n",
      "Number of Predictions: 2104\n",
      "Accuracy: 0.6920152091254753\n",
      "F1-score: 0.6916035353535354\n"
     ]
    }
   ],
   "source": [
    "model.load_state_dict(torch.load(\"weights.pt\")['model_state'])\r\n",
    "model.eval()\r\n",
    "\r\n",
    "correct_pred = 0\r\n",
    "num_pred = 0\r\n",
    "map_sum = 0\r\n",
    "f1_sum = 0\r\n",
    "count = 0\r\n",
    "\r\n",
    "\r\n",
    "for data, label in test_dl:\r\n",
    "    data, label = data.to(device), label.to(device)\r\n",
    "\r\n",
    "    data = data.permute(0, 2, 1)\r\n",
    "    data = data.unsqueeze(2)\r\n",
    "    softmax_v = F.softmax(model(data), dim=1)\r\n",
    "    pred = torch.argmax(softmax_v, dim=1)\r\n",
    "\r\n",
    "    num_pred += len(label)\r\n",
    "    correct_pred = correct_pred + torch.eq(pred,label).sum().data.item()\r\n",
    "\r\n",
    "    #tmp_map, _ = computeMeanAveragePrecision(label.detach().cpu().numpy(), softmax_v.detach().cpu().numpy())\r\n",
    "    #map_sum += tmp_map\r\n",
    "    count +=1\r\n",
    "\r\n",
    "    f1_sum += f1_score(y_true=label.detach().cpu().numpy(), y_pred=pred.detach().cpu().numpy(), average='micro' )\r\n",
    "\r\n",
    "print('Number of correct predictions: ' + str(correct_pred))\r\n",
    "print('Number of Predictions: ' + str(num_pred))\r\n",
    "print('Accuracy: ' + str(correct_pred/num_pred))\r\n",
    "print('F1-score: ' + str(f1_sum/count))\r\n",
    "# print('MAP: ' + str(map_sum/count))"
   ]
  },
  {
   "cell_type": "code",
   "execution_count": null,
   "metadata": {
    "pycharm": {
     "is_executing": true
    }
   },
   "outputs": [],
   "source": []
  }
 ],
 "metadata": {
  "interpreter": {
   "hash": "9dd1f8d2cd3dd57100d44574b2db458fec5331409f65ae922945df056c3b5946"
  },
  "kernelspec": {
   "display_name": "Python 3.6.9 64-bit ('MedDS': virtualenvwrapper)",
   "name": "python3"
  },
  "language_info": {
   "name": "python",
   "version": "3.6.9"
  }
 },
 "nbformat": 4,
 "nbformat_minor": 0
}