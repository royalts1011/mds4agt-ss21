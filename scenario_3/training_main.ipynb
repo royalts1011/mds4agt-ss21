{
 "cells": [
  {
   "cell_type": "code",
   "execution_count": 1,
   "outputs": [],
   "source": [
    "from ds_loader import Dataset_Handler\n",
    "from torchvision.models.mobilenet import mobilenet_v2\n",
    "import torch\n",
    "import torch.nn as nn\n",
    "import matplotlib.pyplot as plt"
   ],
   "metadata": {
    "collapsed": false,
    "pycharm": {
     "name": "#%%\n"
    }
   }
  },
  {
   "cell_type": "code",
   "execution_count": 2,
   "outputs": [],
   "source": [
    "'''\n",
    "Initialise some things\n",
    "'''\n",
    "class Config():\n",
    "    batch_size = 32\n",
    "    epochs = 50\n",
    "    learn_rate = 0.0001\n",
    "    CLASSES = 5\n",
    "    generate = False\n",
    "dsh = Dataset_Handler(dataset_folder='sleep_lab_data', target_hertz=50)"
   ],
   "metadata": {
    "collapsed": false,
    "pycharm": {
     "name": "#%%\n"
    }
   }
  },
  {
   "cell_type": "code",
   "execution_count": 3,
   "outputs": [],
   "source": [
    "'''\n",
    "Generate the data and store localy\n",
    "'''\n",
    "if Config.generate: dsh.generate_dataset()"
   ],
   "metadata": {
    "collapsed": false,
    "pycharm": {
     "name": "#%%\n"
    }
   }
  },
  {
   "cell_type": "code",
   "execution_count": 8,
   "outputs": [],
   "source": [
    "'''\n",
    "Load Data(numpy array) from disk)\n",
    "'''\n",
    "train_dl = dsh.get_dataloader(herz=50,modality=\"baseline.npy\", batch_size=32)"
   ],
   "metadata": {
    "collapsed": false,
    "pycharm": {
     "name": "#%%\n"
    }
   }
  },
  {
   "cell_type": "code",
   "execution_count": 9,
   "outputs": [
    {
     "data": {
      "text/plain": "False"
     },
     "execution_count": 9,
     "metadata": {},
     "output_type": "execute_result"
    }
   ],
   "source": [
    "'''\n",
    "take fist network architecture\n",
    "'''\n",
    "# check for device\n",
    "device = 'cuda' if torch.cuda.is_available() else 'cpu'\n",
    "\n",
    "# define model\n",
    "model = mobilenet_v2(pretrained=True)\n",
    "model.features[0][0] = nn.Conv2d(11, 32, kernel_size=(3, 3), stride=(2, 2), padding=(1, 1), bias=False)\n",
    "model.classifier[1] = nn.Linear(in_features=model.classifier[1].in_features, out_features=Config.CLASSES)\n",
    "model.to(device)\n",
    "\n",
    "# define optimizer\n",
    "optimizer = torch.optim.Adam(model.parameters(), lr=Config.learn_rate)\n",
    "# define loss function\n",
    "loss_function = nn.CrossEntropyLoss()\n",
    "\n",
    "# check if model is on correct device\n",
    "next(model.parameters()).is_cuda\n",
    "\n"
   ],
   "metadata": {
    "collapsed": false,
    "pycharm": {
     "name": "#%%\n"
    }
   }
  },
  {
   "cell_type": "code",
   "execution_count": null,
   "outputs": [],
   "source": [
    "# Traning Process\n",
    "loss_ls_train = []\n",
    "model.train()\n",
    "\n",
    "for epoch in range(Config.epochs):\n",
    "    for data, labels in train_dl:\n",
    "        data, labels = data.to(device), labels.to(device)\n",
    "\n",
    "\n",
    "        optimizer.zero_grad()\n",
    "        data = data.permute(0, 2, 1)\n",
    "        data = data.unsqueeze(2)\n",
    "\n",
    "        prediction = model(data)\n",
    "\n",
    "        loss = loss_function(prediction, labels)\n",
    "        loss.backward()\n",
    "        optimizer.step()\n",
    "\n",
    "        loss_ls_train.append(loss.data.item())\n",
    "\n",
    "    print('===> Epoch: {} loss: {:.4f}'.format(epoch, loss.data.item()))\n",
    "\n",
    "plt.plot(loss_ls_train)\n",
    "plt.show()\n"
   ],
   "metadata": {
    "collapsed": false,
    "pycharm": {
     "name": "#%%\n",
     "is_executing": true
    }
   }
  }
 ],
 "metadata": {
  "kernelspec": {
   "name": "python3",
   "language": "python",
   "display_name": "Python 3"
  },
  "language_info": {
   "codemirror_mode": {
    "name": "ipython",
    "version": 2
   },
   "file_extension": ".py",
   "mimetype": "text/x-python",
   "name": "python",
   "nbconvert_exporter": "python",
   "pygments_lexer": "ipython2",
   "version": "3.6.8"
  },
  "interpreter": {
   "hash": "4292a5c914fcd05fb4d8ac8c1d5d28a6c40b7905c45267b6117bb260a6ea755d"
  }
 },
 "nbformat": 4,
 "nbformat_minor": 0
}