{
 "cells": [
  {
   "cell_type": "code",
   "execution_count": 1,
   "metadata": {
    "collapsed": false,
    "pycharm": {
     "name": "#%%\n"
    }
   },
   "outputs": [],
   "source": [
    "from ds_loader import Dataset_Handler\r\n",
    "from torchvision.models.mobilenet import mobilenet_v2\r\n",
    "import torch\r\n",
    "import torch.nn as nn\r\n",
    "import matplotlib.pyplot as plt\r\n",
    "from sklearn.metrics import f1_score\r\n",
    "import torch.nn.functional as F"
   ]
  },
  {
   "cell_type": "code",
   "execution_count": 2,
   "metadata": {
    "collapsed": false,
    "pycharm": {
     "name": "#%%\n"
    }
   },
   "outputs": [],
   "source": [
    "'''\r\n",
    "Initialise some things\r\n",
    "'''\r\n",
    "class Config():\r\n",
    "    batch_size = 32\r\n",
    "    epochs = 20\r\n",
    "    learn_rate = 0.0001\r\n",
    "    CLASSES = 5\r\n",
    "    generate = False\r\n",
    "dsh = Dataset_Handler(dataset_folder='sleep_lab_data', target_hertz=50)"
   ]
  },
  {
   "cell_type": "code",
   "execution_count": 3,
   "metadata": {
    "collapsed": false,
    "pycharm": {
     "name": "#%%\n"
    }
   },
   "outputs": [],
   "source": [
    "'''\n",
    "Generate the data and store localy\n",
    "'''\n",
    "if Config.generate: dsh.generate_dataset()"
   ]
  },
  {
   "cell_type": "code",
   "execution_count": 4,
   "metadata": {
    "collapsed": false,
    "pycharm": {
     "name": "#%%\n"
    }
   },
   "outputs": [
    {
     "name": "stdout",
     "output_type": "stream",
     "text": [
      "{'WK': 1223, 'N1': 325, 'N2': 1871, 'N3': 1462, 'REM': 1158}\n",
      "{'WK': 1223, 'N1': 1300, 'N2': 1871, 'N3': 1462, 'REM': 1158}\n"
     ]
    }
   ],
   "source": [
    "'''\r\n",
    "Load Data(numpy array) from disk)\r\n",
    "'''\r\n",
    "train_dl, test_dl = dsh.get_dataloader(hertz=50,modality=\"baseline.npy\", batch_size=Config.batch_size)"
   ]
  },
  {
   "cell_type": "code",
   "execution_count": 5,
   "metadata": {},
   "outputs": [
    {
     "data": {
      "text/plain": [
       "False"
      ]
     },
     "execution_count": 5,
     "metadata": {},
     "output_type": "execute_result"
    }
   ],
   "source": [
    "import net\r\n",
    "\r\n",
    "# check for device\r\n",
    "device = 'cuda' if torch.cuda.is_available() else 'cpu'\r\n",
    "\r\n",
    "model = net.SimpleNet()\r\n",
    "model.to(device)\r\n",
    "\r\n",
    "# define optimizer\r\n",
    "optimizer = torch.optim.Adam(model.parameters(), lr=Config.learn_rate)\r\n",
    "# define loss function\r\n",
    "loss_function = nn.CrossEntropyLoss()\r\n",
    "\r\n",
    "# check if model is on correct device\r\n",
    "next(model.parameters()).is_cuda"
   ]
  },
  {
   "cell_type": "markdown",
   "metadata": {
    "collapsed": false,
    "pycharm": {
     "name": "#%%\n"
    }
   },
   "source": [
    "'''\r\n",
    "take fist network architecture\r\n",
    "'''\r\n",
    "# check for device\r\n",
    "device = 'cuda' if torch.cuda.is_available() else 'cpu'\r\n",
    "\r\n",
    "# define model\r\n",
    "model = mobilenet_v2(pretrained=True)\r\n",
    "model.features[0][0] = nn.Conv2d(11, 32, kernel_size=(3, 3), stride=(2, 2), padding=(1, 1), bias=False)\r\n",
    "model.classifier[1] = nn.Linear(in_features=model.classifier[1].in_features, out_features=Config.CLASSES)\r\n",
    "model.to(device)\r\n",
    "\r\n",
    "# define optimizer\r\n",
    "optimizer = torch.optim.Adam(model.parameters(), lr=Config.learn_rate)\r\n",
    "# define loss function\r\n",
    "loss_function = nn.CrossEntropyLoss()\r\n",
    "\r\n",
    "# check if model is on correct device\r\n",
    "next(model.parameters()).is_cuda\r\n",
    "\r\n"
   ]
  },
  {
   "cell_type": "code",
   "execution_count": 6,
   "metadata": {
    "collapsed": false,
    "pycharm": {
     "is_executing": true,
     "name": "#%%\n"
    }
   },
   "outputs": [
    {
     "name": "stdout",
     "output_type": "stream",
     "text": [
      "===> Epoch: 0 loss: 0.8110\n",
      "===> Epoch: 1 loss: 0.3943\n",
      "===> Epoch: 2 loss: 0.4824\n",
      "===> Epoch: 3 loss: 0.7709\n",
      "===> Epoch: 4 loss: 0.3408\n",
      "===> Epoch: 5 loss: 0.4038\n",
      "===> Epoch: 6 loss: 0.4490\n",
      "===> Epoch: 7 loss: 0.5131\n",
      "===> Epoch: 8 loss: 0.0786\n",
      "===> Epoch: 9 loss: 0.0625\n",
      "===> Epoch: 10 loss: 0.0616\n",
      "===> Epoch: 11 loss: 0.0343\n",
      "===> Epoch: 12 loss: 0.0096\n",
      "===> Epoch: 13 loss: 0.0218\n",
      "===> Epoch: 14 loss: 0.0077\n",
      "===> Epoch: 15 loss: 0.0030\n",
      "===> Epoch: 16 loss: 0.0007\n",
      "===> Epoch: 17 loss: 0.0033\n",
      "===> Epoch: 18 loss: 0.0009\n",
      "===> Epoch: 19 loss: 0.0004\n"
     ]
    },
    {
     "data": {
      "image/png": "[encoded data removed]",
      "text/plain": [
       "<Figure size 432x288 with 1 Axes>"
      ]
     },
     "metadata": {
      "needs_background": "light"
     },
     "output_type": "display_data"
    }
   ],
   "source": [
    "# Traning Process\n",
    "loss_ls_train = []\n",
    "model.train()\n",
    "\n",
    "for epoch in range(Config.epochs):\n",
    "    for data, labels in train_dl:\n",
    "        data, labels = data.to(device), labels.to(device)\n",
    "\n",
    "\n",
    "        optimizer.zero_grad()\n",
    "        data = data.permute(0, 2, 1)\n",
    "        data = data.unsqueeze(2)\n",
    "\n",
    "        prediction = model(data)\n",
    "\n",
    "        loss = loss_function(prediction, labels)\n",
    "        loss.backward()\n",
    "        optimizer.step()\n",
    "\n",
    "        loss_ls_train.append(loss.data.item())\n",
    "\n",
    "    print('===> Epoch: {} loss: {:.4f}'.format(epoch, loss.data.item()))\n",
    "\n",
    "plt.plot(loss_ls_train)\n",
    "plt.show()\n"
   ]
  },
  {
   "cell_type": "code",
   "execution_count": 7,
   "metadata": {},
   "outputs": [
    {
     "name": "stdout",
     "output_type": "stream",
     "text": [
      "Number of correct predictions: 1502\n",
      "Number of Predictions:2104\n",
      "Accuracy: 0.7138783269961977\n",
      "F1-score: 0.7135416666666666\n",
      "MAP: 0.0\n"
     ]
    }
   ],
   "source": [
    "model.eval()\n",
    "correct_pred = 0\n",
    "num_pred = 0\n",
    "map_sum = 0\n",
    "f1_sum = 0\n",
    "count = 0\n",
    "\n",
    "\n",
    "for data, label in test_dl:\n",
    "    data, label = data.to(device), label.to(device)\n",
    "\n",
    "    data = data.permute(0, 2, 1)\n",
    "    data = data.unsqueeze(2)\n",
    "    softmax_v = F.softmax(model(data), dim=1)\n",
    "    pred = torch.argmax(softmax_v, dim=1)\n",
    "\n",
    "    num_pred += len(label)\n",
    "    correct_pred = correct_pred + torch.eq(pred,label).sum().data.item()\n",
    "\n",
    "    #tmp_map, _ = computeMeanAveragePrecision(label.detach().cpu().numpy(), softmax_v.detach().cpu().numpy())\n",
    "    #map_sum += tmp_map\n",
    "    count +=1\n",
    "\n",
    "    f1_sum += f1_score(y_true=label.detach().cpu().numpy(), y_pred=pred.detach().cpu().numpy(), average='micro' )\n",
    "\n",
    "print('Number of correct predictions: ' + str(correct_pred))\n",
    "print('Number of Predictions:' + str(num_pred))\n",
    "print('Accuracy: ' + str(correct_pred/num_pred))\n",
    "print('F1-score: ' + str(f1_sum/count))\n",
    "print('MAP: ' + str(map_sum/count))"
   ]
  },
  {
   "cell_type": "code",
   "execution_count": null,
   "metadata": {},
   "outputs": [],
   "source": []
  }
 ],
 "metadata": {
  "interpreter": {
   "hash": "4292a5c914fcd05fb4d8ac8c1d5d28a6c40b7905c45267b6117bb260a6ea755d"
  },
  "kernelspec": {
   "display_name": "Python 3.6.8 64-bit ('mir-mds': virtualenvwrapper)",
   "name": "python3"
  },
  "language_info": {
   "codemirror_mode": {
    "name": "ipython",
    "version": 3
   },
   "file_extension": ".py",
   "mimetype": "text/x-python",
   "name": "python",
   "nbconvert_exporter": "python",
   "pygments_lexer": "ipython3",
   "version": "3.6.8"
  }
 },
 "nbformat": 4,
 "nbformat_minor": 0
}