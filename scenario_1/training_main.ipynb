{
 "metadata": {
  "language_info": {
   "codemirror_mode": {
    "name": "ipython",
    "version": 3
   },
   "file_extension": ".py",
   "mimetype": "text/x-python",
   "name": "python",
   "nbconvert_exporter": "python",
   "pygments_lexer": "ipython3",
   "version": "3.6.9"
  },
  "orig_nbformat": 2,
  "kernelspec": {
   "name": "python3",
   "language": "python",
   "display_name": "Python 3"
  },
  "metadata": {
   "interpreter": {
    "hash": "dde869bc53dc37e72242ec8c3f431002a72ea4d7c69a356217da4f58b4e517b0"
   }
  }
 },
 "nbformat": 4,
 "nbformat_minor": 2,
 "cells": [
  {
   "cell_type": "code",
   "execution_count": 28,
   "metadata": {},
   "outputs": [],
   "source": [
    "import ds_loader as dsl\n",
    "import numpy\n",
    "import matplotlib.pyplot as plt\n",
    "import torch\n",
    "import torchvision\n",
    "import torch.nn as nn\n",
    "import torch.nn.functional as F\n",
    "from torchvision.utils import make_grid\n",
    "from torchvision.models.mobilenet import mobilenet_v2\n",
    "from pathlib import Path\n"
   ]
  },
  {
   "cell_type": "code",
   "execution_count": 29,
   "metadata": {},
   "outputs": [],
   "source": [
    "class Config():\n",
    "    batch_size = 32\n",
    "    epochs = 20\n",
    "    learn_rate = 0.001\n",
    "    CLASSES = 55\n",
    "    DATABASE_FOLDER_TRAIN = str(Path(\"../../dataset/training/\"))\n",
    "    DATABASE_FOLDER_TEST = str(Path(\"../../dataset/testing/\"))\n",
    "    SAMPLING_RATE = 800\n",
    "    #weight_decay = 0.001"
   ]
  },
  {
   "cell_type": "code",
   "execution_count": 30,
   "metadata": {},
   "outputs": [
    {
     "data": {
      "text/plain": "array([[[[-3.23840380e-01, -2.50998068e+00, -1.54999995e+00, ...,\n          -5.67999983e+00, -1.11000001e+00, -1.02500000e+02],\n         [-1.18244357e-01,  9.19208527e+00, -5.29999971e-01, ...,\n           1.13299999e+01,  9.73999977e+00, -1.12804878e+00],\n         [ 3.51537280e-02,  4.19128448e-01,  6.59999967e-01, ...,\n           2.41720001e+02, -2.39999995e-01, -4.58841476e+01]],\n\n        [[-3.30231994e-01, -2.37585950e+00, -1.33999991e+00, ...,\n          -5.66575193e+00, -1.14999998e+00, -9.63932266e+01],\n         [-1.52332813e-01,  9.22322083e+00, -5.29999971e-01, ...,\n           1.13183870e+01,  9.73999977e+00, -1.61434448e+00],\n         [ 1.17179090e-02,  5.02954125e-01,  6.10000014e-01, ...,\n           2.41725311e+02, -2.09999993e-01, -4.63027534e+01]],\n\n        [[-3.39819372e-01, -2.12917256e+00, -1.18999994e+00, ...,\n          -5.62617159e+00, -1.17999995e+00, -8.30261536e+01],\n         [-1.71507582e-01,  9.42679691e+00, -5.19999981e-01, ...,\n           1.12855549e+01,  9.72999954e+00, -2.71210027e+00],\n         [-1.59789659e-02,  1.15679443e+00,  6.20000005e-01, ...,\n           2.41740311e+02, -1.79999992e-01, -4.71966362e+01]],\n\n        ...,\n\n        [[-4.06765694e-18,  8.77774715e+00,  9.99999940e-02, ...,\n           9.38631344e+00,  8.85999966e+00,  2.19229627e+00],\n         [ 2.66316123e-02,  1.38911143e-01,  2.09999993e-01, ...,\n          -6.32546463e+01, -1.29999995e-01,  1.96169829e+00],\n         [-3.19579318e-02, -4.43557644e+00, -2.99999982e-01, ...,\n           2.40437927e+02, -4.19999981e+00, -1.21986520e+00]],\n\n        [[ 1.06526446e-02,  8.73942661e+00,  1.99999988e-01, ...,\n           9.41114235e+00,  8.85999966e+00,  2.17508721e+00],\n         [ 2.55663469e-02,  4.79003927e-03,  2.09999993e-01, ...,\n          -6.33030205e+01, -1.29999995e-01,  1.93443191e+00],\n         [-2.55663469e-02, -4.51940203e+00, -3.19999993e-01, ...,\n           2.40454147e+02, -4.19999981e+00, -1.34510982e+00]],\n\n        [[ 1.91747602e-02,  8.77774715e+00,  1.40000001e-01, ...,\n           9.42000008e+00,  8.85999966e+00,  2.16463423e+00],\n         [ 3.62189934e-02,  1.43701173e-02,  1.49999991e-01, ...,\n          -6.33199997e+01, -1.29999995e-01,  1.92073178e+00],\n         [-2.55663469e-02, -4.45234156e+00, -2.80000001e-01, ...,\n           2.40460007e+02, -4.19999981e+00, -1.40243912e+00]]],\n\n\n       [[[-2.76968759e-02,  8.02331567e-01, -3.89999986e-01, ...,\n           5.57000017e+00,  1.16999996e+00,  8.81097603e+00],\n         [ 2.23705545e-02,  1.83937502e+00,  1.89999998e-01, ...,\n           3.65000010e+00,  1.57999992e+00,  1.44817076e+01],\n         [-1.17179090e-02, -9.73575497e+00, -1.49999991e-01, ...,\n           4.51699982e+01, -9.60999966e+00, -1.43902445e+01]],\n\n        [[-2.45010816e-02,  8.47836971e-01, -3.59999985e-01, ...,\n           5.57334232e+00,  1.16999996e+00,  8.82136440e+00],\n         [ 3.94147858e-02,  1.79386973e+00,  1.29999995e-01, ...,\n           3.65939331e+00,  1.58999991e+00,  1.44447088e+01],\n         [-7.45685119e-03, -9.86987591e+00, -2.29999989e-01, ...,\n           4.51307869e+01, -9.60999966e+00, -1.44058800e+01]],\n\n        [[-2.66316123e-02,  8.50231946e-01, -3.89999986e-01, ...,\n           5.58280325e+00,  1.16999996e+00,  8.84534359e+00],\n         [ 2.66316123e-02,  1.82500494e+00,  1.79999992e-01, ...,\n           3.68615389e+00,  1.58999991e+00,  1.43601465e+01],\n         [-7.45685119e-03, -9.69982910e+00, -1.49999991e-01, ...,\n           4.50198555e+01, -9.60999966e+00, -1.44487362e+01]],\n\n        ...,\n\n        [[ 2.13052891e-03,  8.31071794e-01, -3.10000002e-01, ...,\n           4.88667297e+00,  1.23000002e+00,  3.81932110e-01],\n         [-1.06526446e-03,  1.89446056e+00,  3.99999991e-02, ...,\n           6.71388769e+00,  1.71999991e+00,  7.84427643e-01],\n         [ 8.52211565e-03, -9.61600399e+00, -1.40000001e-01, ...,\n           4.30241280e+01, -9.57999992e+00,  1.99260004e-02]],\n\n        [[ 1.06526446e-02,  9.19687510e-01, -3.49999994e-01, ...,\n           4.88911390e+00,  1.23000002e+00,  3.85679394e-01],\n         [ 4.26105782e-03,  1.89206553e+00,  1.40000001e-01, ...,\n           6.71841574e+00,  1.71999991e+00,  9.95286822e-01],\n         [-3.19579337e-03, -9.78365517e+00, -1.59999996e-01, ...,\n           4.30210762e+01, -9.57999992e+00, -4.09534127e-02]],\n\n        [[ 3.19579337e-03,  7.87961483e-01, -3.59999985e-01, ...,\n           4.88999987e+00,  1.23000002e+00,  3.96341473e-01],\n         [ 4.26105782e-03,  1.83698010e+00,  1.79999992e-01, ...,\n           6.71999979e+00,  1.71999991e+00,  1.09756100e+00],\n         [ 6.71940732e-18, -9.74533463e+00, -1.79999992e-01, ...,\n           4.30200005e+01, -9.57999992e+00, -6.09756112e-02]]],\n\n\n       [[[ 1.28113510e-17,  1.71004403e+00,  3.79999995e-01, ...,\n          -4.73000002e+00,  1.39999998e+00,  2.31707335e+00],\n         [ 6.39158674e-03,  2.28963876e+00,  3.40000004e-01, ...,\n           6.58399963e+01,  1.90999997e+00,  1.40243912e+00],\n         [-1.06526446e-03, -9.58965874e+00, -9.99999940e-02, ...,\n           2.45279999e+02, -9.51999950e+00, -1.21951222e+00]],\n\n        [[ 2.15834781e-17,  1.73878431e+00,  4.39999998e-01, ...,\n          -4.73131704e+00,  1.39999998e+00,  2.33023882e+00],\n         [ 1.06526446e-02,  2.20341802e+00,  3.29999983e-01, ...,\n           6.58301620e+01,  1.90999997e+00,  1.42322445e+00],\n         [ 2.13052891e-03, -9.56810379e+00, -4.99999970e-02, ...,\n           2.45273361e+02, -9.51999950e+00, -1.16597605e+00]],\n\n        [[ 1.06526446e-02,  1.80584478e+00,  4.29999977e-01, ...,\n          -4.73499060e+00,  1.39999998e+00,  2.35697484e+00],\n         [ 4.26105782e-03,  2.16988778e+00,  3.19999993e-01, ...,\n           6.58023453e+01,  1.90999997e+00,  1.47119200e+00],\n         [ 3.19579337e-03, -9.59923840e+00, -1.70000002e-01, ...,\n           2.45254486e+02, -9.51999950e+00, -1.04449618e+00]],\n\n        ...,\n\n        [[ 4.26105782e-03,  1.62382329e+00,  2.59999990e-01, ...,\n          -3.26301217e+00,  1.36000001e+00,  1.95425972e-01],\n         [ 6.39158674e-03,  2.45250010e+00,  3.59999985e-01, ...,\n           6.55569229e+01,  2.07999992e+00, -9.53465641e-01],\n         [-7.45685119e-03, -9.62558365e+00, -1.19999997e-01, ...,\n           2.44646210e+02, -9.48999977e+00, -4.24231148e+00]],\n\n        [[ 2.13052891e-03,  1.55915773e+00,  2.69999981e-01, ...,\n          -3.27554274e+00,  1.36000001e+00,  5.09611249e-01],\n         [ 5.32632228e-03,  2.42375994e+00,  3.49999994e-01, ...,\n           6.55591812e+01,  2.07999992e+00, -8.20458949e-01],\n         [-2.13052891e-03, -9.59444904e+00, -1.89999998e-01, ...,\n           2.44634232e+02, -9.48999977e+00, -4.02645922e+00]],\n\n        [[ 7.57179295e-18,  1.49688733e+00,  2.80000001e-01, ...,\n          -3.27999997e+00,  1.36000001e+00,  6.40243888e-01],\n         [ 5.32632228e-03,  2.47645020e+00,  3.89999986e-01, ...,\n           6.55599976e+01,  2.07999992e+00, -7.62195110e-01],\n         [ 2.13052891e-03, -9.66869450e+00, -1.19999997e-01, ...,\n           2.44630005e+02, -9.48999977e+00, -3.93292689e+00]]],\n\n\n       ...,\n\n\n       [[[ 2.66316123e-02, -6.58630371e-01,  6.99999988e-01, ...,\n          -4.19999987e-01, -1.33999991e+00, -3.04878056e-02],\n         [-3.83495204e-02,  1.06386776e+01,  9.69999969e-01, ...,\n           5.71999979e+00,  9.71000004e+00,  1.89024401e+00],\n         [-2.23705545e-02,  5.70014656e-01,  4.19999987e-01, ...,\n           3.06420013e+02,  3.49999994e-01, -1.06707323e+00]],\n\n        [[ 2.55663469e-02, -6.41865253e-01,  7.89999962e-01, ...,\n          -4.24494535e-01, -1.33999991e+00, -2.43690461e-01],\n         [-1.70442313e-02,  1.07081327e+01,  1.03999996e+00, ...,\n           5.71672344e+00,  9.71000004e+00,  1.84073842e+00],\n         [-2.13052891e-02,  6.03544950e-01,  3.29999983e-01, ...,\n           3.06419373e+02,  3.40000004e-01, -1.01241255e+00]],\n\n        [[ 1.59789659e-02, -6.08334959e-01,  7.19999969e-01, ...,\n          -4.37035352e-01, -1.33999991e+00, -8.10690641e-01],\n         [-1.17179090e-02,  1.06793928e+01,  1.05999994e+00, ...,\n           5.70738935e+00,  9.71000004e+00,  1.61390460e+00],\n         [-1.70442313e-02,  4.71818864e-01,  2.09999993e-01, ...,\n           3.06417419e+02,  3.49999994e-01, -8.07801127e-01]],\n\n        ...,\n\n        [[ 1.70442313e-02, -6.39470220e-01,  6.69999957e-01, ...,\n          -5.47023392e+00, -1.38000000e+00, -5.96370101e-01],\n         [ 3.72842550e-02,  1.06458626e+01,  9.69999969e-01, ...,\n           3.23667870e+01,  9.71000004e+00,  6.62370503e-01],\n         [ 1.49137024e-02,  2.96982437e-01,  3.40000004e-01, ...,\n           2.90997406e+02, -4.99999970e-02,  2.14146543e-02]],\n\n        [[ 2.23705545e-02, -6.44260287e-01,  7.50000000e-01, ...,\n          -5.47005320e+00, -1.38000000e+00, -1.34183919e+00],\n         [ 4.36758436e-02,  1.06602325e+01,  9.69999969e-01, ...,\n           3.23617744e+01,  9.71000004e+00,  2.90274292e-01],\n         [ 1.17179090e-02,  3.13747585e-01,  3.40000004e-01, ...,\n           2.90999298e+02, -4.99999970e-02,  5.81999779e-01]],\n\n        [[ 2.55663469e-02, -6.82580590e-01,  7.50000000e-01, ...,\n          -5.46999979e+00, -1.37000000e+00, -1.70731711e+00],\n         [ 3.51537280e-02,  1.06099367e+01,  9.79999959e-01, ...,\n           3.23600006e+01,  9.71000004e+00,  1.21951222e-01],\n         [ 1.17179090e-02,  3.90388191e-01,  2.89999992e-01, ...,\n           2.91000000e+02, -4.99999970e-02,  8.23170781e-01]]],\n\n\n       [[[ 4.30366844e-01,  2.03097653e+00, -4.59999979e-01, ...,\n           3.09999990e+00,  2.53999996e+00, -6.49390268e+00],\n         [-2.70577163e-01, -1.73399425e+00, -4.09999996e-01, ...,\n           7.11999989e+00, -1.30999994e+00,  1.29268293e+01],\n         [-5.17718554e-01, -9.18729496e+00,  1.09999999e-01, ...,\n           2.63750000e+02, -9.38000011e+00, -1.40243902e+01]],\n\n        [[ 4.00539428e-01,  2.02139664e+00, -4.69999999e-01, ...,\n           3.09443617e+00,  2.52999997e+00, -6.28948689e+00],\n         [-2.57793993e-01, -1.67890871e+00, -3.89999986e-01, ...,\n           7.12989664e+00, -1.31999993e+00,  1.30183554e+01],\n         [-5.12392223e-01, -9.06514931e+00,  1.89999998e-01, ...,\n           2.63753967e+02, -9.38000011e+00, -1.40948124e+01]],\n\n        [[ 3.74973089e-01,  2.19383788e+00, -4.69999999e-01, ...,\n           3.07872796e+00,  2.51999998e+00, -5.53300333e+00],\n         [-2.38619238e-01, -1.60705817e+00, -3.29999983e-01, ...,\n           7.15807438e+00, -1.33999991e+00,  1.33347359e+01],\n         [-4.91086900e-01, -9.08191490e+00,  2.99999982e-01, ...,\n           2.63765076e+02, -9.38000011e+00, -1.42125473e+01]],\n\n        ...,\n\n        [[ 2.13052891e-03,  2.78540778e+00, -3.10000002e-01, ...,\n          -4.62044811e+00,  3.14999986e+00,  5.82702293e+01],\n         [ 3.19579337e-03,  1.50886238e+00,  7.99999982e-02, ...,\n           4.23277626e+01,  1.38999999e+00,  9.16838989e+01],\n         [-3.19579337e-03, -9.45793247e+00, -2.50000000e-01, ...,\n           2.66333221e+02, -9.17999935e+00,  3.68815880e+01]],\n\n        [[-2.13052891e-03,  2.89797378e+00, -2.39999995e-01, ...,\n          -4.62012577e+00,  3.14999986e+00,  5.81653175e+01],\n         [ 3.19579337e-03,  1.50407231e+00,  1.19999997e-01, ...,\n           4.23220482e+01,  1.38999999e+00,  9.15182266e+01],\n         [ 1.06526446e-03, -9.49864769e+00, -2.59999990e-01, ...,\n           2.66338226e+02, -9.17999935e+00,  3.83287315e+01]],\n\n        [[ 3.19579337e-03,  2.85725832e+00, -3.10000002e-01, ...,\n          -4.61999989e+00,  3.14999986e+00,  5.80182953e+01],\n         [-1.06526446e-03,  1.59987307e+00,  1.59999996e-01, ...,\n           4.23199997e+01,  1.38999999e+00,  9.13719559e+01],\n         [-2.13052891e-03, -9.39087200e+00, -2.99999982e-01, ...,\n           2.66339996e+02, -9.17999935e+00,  3.89329262e+01]]],\n\n\n       [[[-2.87621394e-02,  2.38543963e+00,  7.79999971e-01, ...,\n           4.73000002e+00,  1.66999996e+00, -1.41158543e+01],\n         [-1.27831735e-02,  1.05093460e+01,  8.10000002e-01, ...,\n           1.81499996e+01,  9.65999985e+00, -7.92682946e-01],\n         [-8.52211565e-03, -3.11352551e-01, -7.99999982e-02, ...,\n           2.74600006e+02, -1.79999992e-01,  5.67073202e+00]],\n\n        [[-3.19579318e-02,  2.31119394e+00,  7.59999990e-01, ...,\n           4.73017550e+00,  1.66999996e+00, -1.39026299e+01],\n         [-1.17179090e-02,  1.05692215e+01,  8.39999974e-01, ...,\n           1.81476555e+01,  9.65999985e+00, -8.26260984e-01],\n         [-8.52211565e-03, -3.11352551e-01,  2.99999993e-02, ...,\n           2.74601318e+02, -1.79999992e-01,  5.99424458e+00]],\n\n        [[-2.87621394e-02,  2.35669923e+00,  6.89999998e-01, ...,\n           4.73058271e+00,  1.66999996e+00, -1.34449615e+01],\n         [-5.32632228e-03,  1.04901857e+01,  8.10000002e-01, ...,\n           1.81410065e+01,  9.65999985e+00, -9.55271304e-01],\n         [-3.19579337e-03, -2.49082044e-01,  9.99999978e-03, ...,\n           2.74605133e+02, -1.79999992e-01,  6.69806433e+00]],\n\n        ...,\n\n        [[-1.38484379e-02,  2.22257829e+00,  8.79999995e-01, ...,\n           5.96002340e+00,  1.50000000e+00, -1.42995143e+00],\n         [ 7.45685119e-03,  1.04303102e+01,  7.50000000e-01, ...,\n           1.59136543e+01,  9.68999958e+00,  1.36811107e-01],\n         [-4.26105782e-03, -2.41896987e-01, -1.79999992e-01, ...,\n           2.74419891e+02, -1.29999995e-01,  5.21947682e-01]],\n\n        [[-1.59789659e-02,  2.29442883e+00,  9.89999950e-01, ...,\n           5.95263386e+00,  1.50000000e+00, -1.24330306e+00],\n         [-1.06526446e-03,  1.05500612e+01,  7.40000010e-01, ...,\n           1.59110260e+01,  9.68999958e+00,  1.70072585e-01],\n         [ 5.32632228e-03, -2.61057138e-01, -1.79999992e-01, ...,\n           2.74427338e+02, -1.29999995e-01,  4.98080283e-01]],\n\n        [[-1.81094967e-02,  2.33514404e+00,  9.49999988e-01, ...,\n           5.94999981e+00,  1.50000000e+00, -1.15853667e+00],\n         [ 2.13052891e-03,  1.05213213e+01,  7.89999962e-01, ...,\n           1.59099998e+01,  9.68999958e+00,  1.82926834e-01],\n         [ 4.26105782e-03, -1.48491219e-01, -2.39999995e-01, ...,\n           2.74429993e+02, -1.29999995e-01,  4.87804890e-01]]]],\n      dtype=float32)"
     },
     "execution_count": 30,
     "metadata": {},
     "output_type": "execute_result"
    }
   ],
   "source": [
    "dsl.get_dataset(save=True, folder=Config.DATABASE_FOLDER_TRAIN)\n",
    "dsl.get_dataset(save=True, folder=Config.DATABASE_FOLDER_TEST)"
   ]
  },
  {
   "cell_type": "code",
   "execution_count": 23,
   "metadata": {},
   "outputs": [
    {
     "name": "stdout",
     "output_type": "stream",
     "text": [
      "cpu\n"
     ]
    }
   ],
   "source": [
    "device = 'cuda' if torch.cuda.is_available() else 'cpu'\n",
    "print(device)"
   ]
  },
  {
   "cell_type": "code",
   "execution_count": 24,
   "metadata": {},
   "outputs": [],
   "source": [
    "train_dl = dsl.get_dataloader(is_train=True, batch_size=Config.batch_size)\n",
    "test_dl = dsl.get_dataloader(is_train=False, batch_size=Config.batch_size)"
   ]
  },
  {
   "cell_type": "code",
   "execution_count": null,
   "metadata": {},
   "outputs": [],
   "source": [
    "#define mode\n",
    "model = mobilenet_v2(pretrained=True)\n",
    "\n",
    "model.features[0][0] = nn.Conv2d(9, 32, kernel_size=(3, 3), stride=(2, 2), padding=(1, 1), bias=False)\n",
    "model.classifier[1] = nn.Linear(in_features=model.classifier[1].in_features, out_features=Config.CLASSES)\n",
    "\n",
    "model.to(device)\n",
    "\n",
    "# define optimizer\n",
    "#optimizer = torch.optim.Adam(model.parameters(), lr=Config.learn_rate, weight_decay=Config.weight_decay)\n",
    "optimizer = torch.optim.Adam(model.parameters(), lr=Config.learn_rate)\n",
    "# define loss function\n",
    "loss_function = nn.CrossEntropyLoss()\n",
    "\n",
    "next(model.parameters()).is_cuda"
   ]
  },
  {
   "cell_type": "code",
   "execution_count": 12,
   "metadata": {},
   "outputs": [
    {
     "ename": "NameError",
     "evalue": "name 'model' is not defined",
     "output_type": "error",
     "traceback": [
      "\u001B[0;31m---------------------------------------------------------------------------\u001B[0m",
      "\u001B[0;31mNameError\u001B[0m                                 Traceback (most recent call last)",
      "\u001B[0;32m<ipython-input-12-3e24a80ffb2a>\u001B[0m in \u001B[0;36m<module>\u001B[0;34m\u001B[0m\n\u001B[1;32m      1\u001B[0m \u001B[0mloss_ls_train\u001B[0m \u001B[0;34m=\u001B[0m \u001B[0;34m[\u001B[0m\u001B[0;34m]\u001B[0m\u001B[0;34m\u001B[0m\u001B[0;34m\u001B[0m\u001B[0m\n\u001B[0;32m----> 2\u001B[0;31m \u001B[0mmodel\u001B[0m\u001B[0;34m.\u001B[0m\u001B[0mtrain\u001B[0m\u001B[0;34m(\u001B[0m\u001B[0;34m)\u001B[0m\u001B[0;34m\u001B[0m\u001B[0;34m\u001B[0m\u001B[0m\n\u001B[0m\u001B[1;32m      3\u001B[0m \u001B[0;34m\u001B[0m\u001B[0m\n\u001B[1;32m      4\u001B[0m \u001B[0;32mfor\u001B[0m \u001B[0mepoch\u001B[0m \u001B[0;32min\u001B[0m \u001B[0mrange\u001B[0m\u001B[0;34m(\u001B[0m\u001B[0mConfig\u001B[0m\u001B[0;34m.\u001B[0m\u001B[0mepochs\u001B[0m\u001B[0;34m)\u001B[0m\u001B[0;34m:\u001B[0m\u001B[0;34m\u001B[0m\u001B[0;34m\u001B[0m\u001B[0m\n\u001B[1;32m      5\u001B[0m     \u001B[0;32mfor\u001B[0m \u001B[0mdata\u001B[0m\u001B[0;34m,\u001B[0m \u001B[0mlabels\u001B[0m \u001B[0;32min\u001B[0m \u001B[0mtrain_dl\u001B[0m\u001B[0;34m:\u001B[0m\u001B[0;34m\u001B[0m\u001B[0;34m\u001B[0m\u001B[0m\n",
      "\u001B[0;31mNameError\u001B[0m: name 'model' is not defined"
     ]
    }
   ],
   "source": [
    "loss_ls_train = []\n",
    "model.train()\n",
    "\n",
    "for epoch in range(Config.epochs):\n",
    "    for data, labels in train_dl:\n",
    "        data, labels = data.to(device), labels.to(device)\n",
    "\n",
    "        optimizer.zero_grad()\n",
    "        data = data.permute(0, 3, 1, 2)\n",
    "\n",
    "        prediction = model(data)\n",
    "\n",
    "        loss = loss_function(prediction, labels)\n",
    "        loss.backward()\n",
    "        optimizer.step()\n",
    "\n",
    "        loss_ls_train.append(loss.data.item())\n",
    "\n",
    "    print('===> Epoch: {} loss: {:.4f}'.format(epoch, loss.data.item()))\n",
    "\n",
    "plt.plot(loss_ls_train)\n",
    "plt.show()"
   ]
  },
  {
   "cell_type": "code",
   "execution_count": 25,
   "metadata": {},
   "outputs": [
    {
     "name": "stdout",
     "output_type": "stream",
     "text": [
      "Number of correct predictions: 1284\n",
      "Number of Predictions:2288\n",
      "Portion: 0.5611888111888111\n"
     ]
    }
   ],
   "source": [
    "model = torch.load('/Users/falcolentzsch/Develope/MDS4AGT/krasses_model.pt',map_location=device)\n",
    "# Start Evaluation\n",
    "model.eval()\n",
    "correct_pred = 0\n",
    "num_pred = 0\n",
    "\n",
    "for data, label in test_dl:\n",
    "    data, label = data.to(device), label.to(device)\n",
    "\n",
    "    data = data.permute(0, 3, 1, 2)\n",
    "    pred = torch.argmax(model(data), dim=1)\n",
    "\n",
    "    num_pred += len(label)\n",
    "    correct_pred = correct_pred + torch.eq(pred,label).sum().data.item()\n",
    "\n",
    "print('Number of correct predictions: ' + str(correct_pred))\n",
    "print('Number of Predictions:' + str(num_pred))\n",
    "print('Portion: ' + str(correct_pred/num_pred))"
   ]
  },
  {
   "cell_type": "code",
   "execution_count": 31,
   "metadata": {},
   "outputs": [
    {
     "data": {
      "text/plain": "MobileNetV2(\n  (features): Sequential(\n    (0): ConvBNActivation(\n      (0): Conv2d(9, 32, kernel_size=(3, 3), stride=(2, 2), padding=(1, 1), bias=False)\n      (1): BatchNorm2d(32, eps=1e-05, momentum=0.1, affine=True, track_running_stats=True)\n      (2): ReLU6(inplace=True)\n    )\n    (1): InvertedResidual(\n      (conv): Sequential(\n        (0): ConvBNActivation(\n          (0): Conv2d(32, 32, kernel_size=(3, 3), stride=(1, 1), padding=(1, 1), groups=32, bias=False)\n          (1): BatchNorm2d(32, eps=1e-05, momentum=0.1, affine=True, track_running_stats=True)\n          (2): ReLU6(inplace=True)\n        )\n        (1): Conv2d(32, 16, kernel_size=(1, 1), stride=(1, 1), bias=False)\n        (2): BatchNorm2d(16, eps=1e-05, momentum=0.1, affine=True, track_running_stats=True)\n      )\n    )\n    (2): InvertedResidual(\n      (conv): Sequential(\n        (0): ConvBNActivation(\n          (0): Conv2d(16, 96, kernel_size=(1, 1), stride=(1, 1), bias=False)\n          (1): BatchNorm2d(96, eps=1e-05, momentum=0.1, affine=True, track_running_stats=True)\n          (2): ReLU6(inplace=True)\n        )\n        (1): ConvBNActivation(\n          (0): Conv2d(96, 96, kernel_size=(3, 3), stride=(2, 2), padding=(1, 1), groups=96, bias=False)\n          (1): BatchNorm2d(96, eps=1e-05, momentum=0.1, affine=True, track_running_stats=True)\n          (2): ReLU6(inplace=True)\n        )\n        (2): Conv2d(96, 24, kernel_size=(1, 1), stride=(1, 1), bias=False)\n        (3): BatchNorm2d(24, eps=1e-05, momentum=0.1, affine=True, track_running_stats=True)\n      )\n    )\n    (3): InvertedResidual(\n      (conv): Sequential(\n        (0): ConvBNActivation(\n          (0): Conv2d(24, 144, kernel_size=(1, 1), stride=(1, 1), bias=False)\n          (1): BatchNorm2d(144, eps=1e-05, momentum=0.1, affine=True, track_running_stats=True)\n          (2): ReLU6(inplace=True)\n        )\n        (1): ConvBNActivation(\n          (0): Conv2d(144, 144, kernel_size=(3, 3), stride=(1, 1), padding=(1, 1), groups=144, bias=False)\n          (1): BatchNorm2d(144, eps=1e-05, momentum=0.1, affine=True, track_running_stats=True)\n          (2): ReLU6(inplace=True)\n        )\n        (2): Conv2d(144, 24, kernel_size=(1, 1), stride=(1, 1), bias=False)\n        (3): BatchNorm2d(24, eps=1e-05, momentum=0.1, affine=True, track_running_stats=True)\n      )\n    )\n    (4): InvertedResidual(\n      (conv): Sequential(\n        (0): ConvBNActivation(\n          (0): Conv2d(24, 144, kernel_size=(1, 1), stride=(1, 1), bias=False)\n          (1): BatchNorm2d(144, eps=1e-05, momentum=0.1, affine=True, track_running_stats=True)\n          (2): ReLU6(inplace=True)\n        )\n        (1): ConvBNActivation(\n          (0): Conv2d(144, 144, kernel_size=(3, 3), stride=(2, 2), padding=(1, 1), groups=144, bias=False)\n          (1): BatchNorm2d(144, eps=1e-05, momentum=0.1, affine=True, track_running_stats=True)\n          (2): ReLU6(inplace=True)\n        )\n        (2): Conv2d(144, 32, kernel_size=(1, 1), stride=(1, 1), bias=False)\n        (3): BatchNorm2d(32, eps=1e-05, momentum=0.1, affine=True, track_running_stats=True)\n      )\n    )\n    (5): InvertedResidual(\n      (conv): Sequential(\n        (0): ConvBNActivation(\n          (0): Conv2d(32, 192, kernel_size=(1, 1), stride=(1, 1), bias=False)\n          (1): BatchNorm2d(192, eps=1e-05, momentum=0.1, affine=True, track_running_stats=True)\n          (2): ReLU6(inplace=True)\n        )\n        (1): ConvBNActivation(\n          (0): Conv2d(192, 192, kernel_size=(3, 3), stride=(1, 1), padding=(1, 1), groups=192, bias=False)\n          (1): BatchNorm2d(192, eps=1e-05, momentum=0.1, affine=True, track_running_stats=True)\n          (2): ReLU6(inplace=True)\n        )\n        (2): Conv2d(192, 32, kernel_size=(1, 1), stride=(1, 1), bias=False)\n        (3): BatchNorm2d(32, eps=1e-05, momentum=0.1, affine=True, track_running_stats=True)\n      )\n    )\n    (6): InvertedResidual(\n      (conv): Sequential(\n        (0): ConvBNActivation(\n          (0): Conv2d(32, 192, kernel_size=(1, 1), stride=(1, 1), bias=False)\n          (1): BatchNorm2d(192, eps=1e-05, momentum=0.1, affine=True, track_running_stats=True)\n          (2): ReLU6(inplace=True)\n        )\n        (1): ConvBNActivation(\n          (0): Conv2d(192, 192, kernel_size=(3, 3), stride=(1, 1), padding=(1, 1), groups=192, bias=False)\n          (1): BatchNorm2d(192, eps=1e-05, momentum=0.1, affine=True, track_running_stats=True)\n          (2): ReLU6(inplace=True)\n        )\n        (2): Conv2d(192, 32, kernel_size=(1, 1), stride=(1, 1), bias=False)\n        (3): BatchNorm2d(32, eps=1e-05, momentum=0.1, affine=True, track_running_stats=True)\n      )\n    )\n    (7): InvertedResidual(\n      (conv): Sequential(\n        (0): ConvBNActivation(\n          (0): Conv2d(32, 192, kernel_size=(1, 1), stride=(1, 1), bias=False)\n          (1): BatchNorm2d(192, eps=1e-05, momentum=0.1, affine=True, track_running_stats=True)\n          (2): ReLU6(inplace=True)\n        )\n        (1): ConvBNActivation(\n          (0): Conv2d(192, 192, kernel_size=(3, 3), stride=(2, 2), padding=(1, 1), groups=192, bias=False)\n          (1): BatchNorm2d(192, eps=1e-05, momentum=0.1, affine=True, track_running_stats=True)\n          (2): ReLU6(inplace=True)\n        )\n        (2): Conv2d(192, 64, kernel_size=(1, 1), stride=(1, 1), bias=False)\n        (3): BatchNorm2d(64, eps=1e-05, momentum=0.1, affine=True, track_running_stats=True)\n      )\n    )\n    (8): InvertedResidual(\n      (conv): Sequential(\n        (0): ConvBNActivation(\n          (0): Conv2d(64, 384, kernel_size=(1, 1), stride=(1, 1), bias=False)\n          (1): BatchNorm2d(384, eps=1e-05, momentum=0.1, affine=True, track_running_stats=True)\n          (2): ReLU6(inplace=True)\n        )\n        (1): ConvBNActivation(\n          (0): Conv2d(384, 384, kernel_size=(3, 3), stride=(1, 1), padding=(1, 1), groups=384, bias=False)\n          (1): BatchNorm2d(384, eps=1e-05, momentum=0.1, affine=True, track_running_stats=True)\n          (2): ReLU6(inplace=True)\n        )\n        (2): Conv2d(384, 64, kernel_size=(1, 1), stride=(1, 1), bias=False)\n        (3): BatchNorm2d(64, eps=1e-05, momentum=0.1, affine=True, track_running_stats=True)\n      )\n    )\n    (9): InvertedResidual(\n      (conv): Sequential(\n        (0): ConvBNActivation(\n          (0): Conv2d(64, 384, kernel_size=(1, 1), stride=(1, 1), bias=False)\n          (1): BatchNorm2d(384, eps=1e-05, momentum=0.1, affine=True, track_running_stats=True)\n          (2): ReLU6(inplace=True)\n        )\n        (1): ConvBNActivation(\n          (0): Conv2d(384, 384, kernel_size=(3, 3), stride=(1, 1), padding=(1, 1), groups=384, bias=False)\n          (1): BatchNorm2d(384, eps=1e-05, momentum=0.1, affine=True, track_running_stats=True)\n          (2): ReLU6(inplace=True)\n        )\n        (2): Conv2d(384, 64, kernel_size=(1, 1), stride=(1, 1), bias=False)\n        (3): BatchNorm2d(64, eps=1e-05, momentum=0.1, affine=True, track_running_stats=True)\n      )\n    )\n    (10): InvertedResidual(\n      (conv): Sequential(\n        (0): ConvBNActivation(\n          (0): Conv2d(64, 384, kernel_size=(1, 1), stride=(1, 1), bias=False)\n          (1): BatchNorm2d(384, eps=1e-05, momentum=0.1, affine=True, track_running_stats=True)\n          (2): ReLU6(inplace=True)\n        )\n        (1): ConvBNActivation(\n          (0): Conv2d(384, 384, kernel_size=(3, 3), stride=(1, 1), padding=(1, 1), groups=384, bias=False)\n          (1): BatchNorm2d(384, eps=1e-05, momentum=0.1, affine=True, track_running_stats=True)\n          (2): ReLU6(inplace=True)\n        )\n        (2): Conv2d(384, 64, kernel_size=(1, 1), stride=(1, 1), bias=False)\n        (3): BatchNorm2d(64, eps=1e-05, momentum=0.1, affine=True, track_running_stats=True)\n      )\n    )\n    (11): InvertedResidual(\n      (conv): Sequential(\n        (0): ConvBNActivation(\n          (0): Conv2d(64, 384, kernel_size=(1, 1), stride=(1, 1), bias=False)\n          (1): BatchNorm2d(384, eps=1e-05, momentum=0.1, affine=True, track_running_stats=True)\n          (2): ReLU6(inplace=True)\n        )\n        (1): ConvBNActivation(\n          (0): Conv2d(384, 384, kernel_size=(3, 3), stride=(1, 1), padding=(1, 1), groups=384, bias=False)\n          (1): BatchNorm2d(384, eps=1e-05, momentum=0.1, affine=True, track_running_stats=True)\n          (2): ReLU6(inplace=True)\n        )\n        (2): Conv2d(384, 96, kernel_size=(1, 1), stride=(1, 1), bias=False)\n        (3): BatchNorm2d(96, eps=1e-05, momentum=0.1, affine=True, track_running_stats=True)\n      )\n    )\n    (12): InvertedResidual(\n      (conv): Sequential(\n        (0): ConvBNActivation(\n          (0): Conv2d(96, 576, kernel_size=(1, 1), stride=(1, 1), bias=False)\n          (1): BatchNorm2d(576, eps=1e-05, momentum=0.1, affine=True, track_running_stats=True)\n          (2): ReLU6(inplace=True)\n        )\n        (1): ConvBNActivation(\n          (0): Conv2d(576, 576, kernel_size=(3, 3), stride=(1, 1), padding=(1, 1), groups=576, bias=False)\n          (1): BatchNorm2d(576, eps=1e-05, momentum=0.1, affine=True, track_running_stats=True)\n          (2): ReLU6(inplace=True)\n        )\n        (2): Conv2d(576, 96, kernel_size=(1, 1), stride=(1, 1), bias=False)\n        (3): BatchNorm2d(96, eps=1e-05, momentum=0.1, affine=True, track_running_stats=True)\n      )\n    )\n    (13): InvertedResidual(\n      (conv): Sequential(\n        (0): ConvBNActivation(\n          (0): Conv2d(96, 576, kernel_size=(1, 1), stride=(1, 1), bias=False)\n          (1): BatchNorm2d(576, eps=1e-05, momentum=0.1, affine=True, track_running_stats=True)\n          (2): ReLU6(inplace=True)\n        )\n        (1): ConvBNActivation(\n          (0): Conv2d(576, 576, kernel_size=(3, 3), stride=(1, 1), padding=(1, 1), groups=576, bias=False)\n          (1): BatchNorm2d(576, eps=1e-05, momentum=0.1, affine=True, track_running_stats=True)\n          (2): ReLU6(inplace=True)\n        )\n        (2): Conv2d(576, 96, kernel_size=(1, 1), stride=(1, 1), bias=False)\n        (3): BatchNorm2d(96, eps=1e-05, momentum=0.1, affine=True, track_running_stats=True)\n      )\n    )\n    (14): InvertedResidual(\n      (conv): Sequential(\n        (0): ConvBNActivation(\n          (0): Conv2d(96, 576, kernel_size=(1, 1), stride=(1, 1), bias=False)\n          (1): BatchNorm2d(576, eps=1e-05, momentum=0.1, affine=True, track_running_stats=True)\n          (2): ReLU6(inplace=True)\n        )\n        (1): ConvBNActivation(\n          (0): Conv2d(576, 576, kernel_size=(3, 3), stride=(2, 2), padding=(1, 1), groups=576, bias=False)\n          (1): BatchNorm2d(576, eps=1e-05, momentum=0.1, affine=True, track_running_stats=True)\n          (2): ReLU6(inplace=True)\n        )\n        (2): Conv2d(576, 160, kernel_size=(1, 1), stride=(1, 1), bias=False)\n        (3): BatchNorm2d(160, eps=1e-05, momentum=0.1, affine=True, track_running_stats=True)\n      )\n    )\n    (15): InvertedResidual(\n      (conv): Sequential(\n        (0): ConvBNActivation(\n          (0): Conv2d(160, 960, kernel_size=(1, 1), stride=(1, 1), bias=False)\n          (1): BatchNorm2d(960, eps=1e-05, momentum=0.1, affine=True, track_running_stats=True)\n          (2): ReLU6(inplace=True)\n        )\n        (1): ConvBNActivation(\n          (0): Conv2d(960, 960, kernel_size=(3, 3), stride=(1, 1), padding=(1, 1), groups=960, bias=False)\n          (1): BatchNorm2d(960, eps=1e-05, momentum=0.1, affine=True, track_running_stats=True)\n          (2): ReLU6(inplace=True)\n        )\n        (2): Conv2d(960, 160, kernel_size=(1, 1), stride=(1, 1), bias=False)\n        (3): BatchNorm2d(160, eps=1e-05, momentum=0.1, affine=True, track_running_stats=True)\n      )\n    )\n    (16): InvertedResidual(\n      (conv): Sequential(\n        (0): ConvBNActivation(\n          (0): Conv2d(160, 960, kernel_size=(1, 1), stride=(1, 1), bias=False)\n          (1): BatchNorm2d(960, eps=1e-05, momentum=0.1, affine=True, track_running_stats=True)\n          (2): ReLU6(inplace=True)\n        )\n        (1): ConvBNActivation(\n          (0): Conv2d(960, 960, kernel_size=(3, 3), stride=(1, 1), padding=(1, 1), groups=960, bias=False)\n          (1): BatchNorm2d(960, eps=1e-05, momentum=0.1, affine=True, track_running_stats=True)\n          (2): ReLU6(inplace=True)\n        )\n        (2): Conv2d(960, 160, kernel_size=(1, 1), stride=(1, 1), bias=False)\n        (3): BatchNorm2d(160, eps=1e-05, momentum=0.1, affine=True, track_running_stats=True)\n      )\n    )\n    (17): InvertedResidual(\n      (conv): Sequential(\n        (0): ConvBNActivation(\n          (0): Conv2d(160, 960, kernel_size=(1, 1), stride=(1, 1), bias=False)\n          (1): BatchNorm2d(960, eps=1e-05, momentum=0.1, affine=True, track_running_stats=True)\n          (2): ReLU6(inplace=True)\n        )\n        (1): ConvBNActivation(\n          (0): Conv2d(960, 960, kernel_size=(3, 3), stride=(1, 1), padding=(1, 1), groups=960, bias=False)\n          (1): BatchNorm2d(960, eps=1e-05, momentum=0.1, affine=True, track_running_stats=True)\n          (2): ReLU6(inplace=True)\n        )\n        (2): Conv2d(960, 320, kernel_size=(1, 1), stride=(1, 1), bias=False)\n        (3): BatchNorm2d(320, eps=1e-05, momentum=0.1, affine=True, track_running_stats=True)\n      )\n    )\n    (18): ConvBNActivation(\n      (0): Conv2d(320, 1280, kernel_size=(1, 1), stride=(1, 1), bias=False)\n      (1): BatchNorm2d(1280, eps=1e-05, momentum=0.1, affine=True, track_running_stats=True)\n      (2): ReLU6(inplace=True)\n    )\n  )\n  (classifier): Sequential(\n    (0): Dropout(p=0.2, inplace=False)\n    (1): Linear(in_features=1280, out_features=55, bias=True)\n  )\n)"
     },
     "execution_count": 31,
     "metadata": {},
     "output_type": "execute_result"
    }
   ],
   "source": [
    "model.eval()\n"
   ]
  }
 ]
}