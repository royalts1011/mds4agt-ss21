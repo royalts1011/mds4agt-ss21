{
 "metadata": {
  "language_info": {
   "codemirror_mode": {
    "name": "ipython",
    "version": 3
   },
   "file_extension": ".py",
   "mimetype": "text/x-python",
   "name": "python",
   "nbconvert_exporter": "python",
   "pygments_lexer": "ipython3",
   "version": "3.6.9"
  },
  "orig_nbformat": 2,
  "kernelspec": {
   "name": "python3",
   "language": "python",
   "display_name": "Python 3"
  },
  "metadata": {
   "interpreter": {
    "hash": "dde869bc53dc37e72242ec8c3f431002a72ea4d7c69a356217da4f58b4e517b0"
   }
  }
 },
 "nbformat": 4,
 "nbformat_minor": 2,
 "cells": [
  {
   "cell_type": "code",
   "execution_count": 25,
   "metadata": {},
   "outputs": [],
   "source": [
    "import ds_loader as dsl\n",
    "import numpy\n",
    "import matplotlib.pyplot as plt\n",
    "import torch\n",
    "import torchvision\n",
    "import torch.nn as nn\n",
    "import torch.nn.functional as F\n",
    "from torchvision.utils import make_grid\n",
    "from torchvision.models.mobilenet import mobilenet_v2\n",
    "from pathlib import Path\n",
    "from meanAveragePrecision import computeMeanAveragePrecision\n",
    "import numpy as np"
   ]
  },
  {
   "cell_type": "code",
   "execution_count": 26,
   "metadata": {},
   "outputs": [],
   "source": [
    "class Config():\n",
    "    batch_size = 32\n",
    "    epochs = 20\n",
    "    learn_rate = 0.0001\n",
    "    CLASSES = 55\n",
    "    DATABASE_FOLDER_TRAIN = str(Path(\"../../dataset/training/\"))\n",
    "    DATABASE_FOLDER_TEST = str(Path(\"../../dataset/testing/\"))\n",
    "    SAMPLING_RATE = 800\n",
    "    #weight_decay = 0.001"
   ]
  },
  {
   "cell_type": "code",
   "execution_count": 27,
   "metadata": {},
   "outputs": [
    {
     "data": {
      "text/plain": "array([[[[-2.50998068e+00, -1.11000001e+00, -3.23840380e-01, ...,\n           1.09106445e+00, -1.02500000e+02,  1.50625000e+01],\n         [ 9.19208527e+00,  9.73999977e+00, -1.18244357e-01, ...,\n           5.54199219e-02, -1.12804878e+00, -3.37500000e+00],\n         [ 4.19128448e-01, -2.39999995e-01,  3.51537280e-02, ...,\n           2.10449219e-01, -4.58841476e+01, -2.43750000e+00]],\n\n        [[-2.37585950e+00, -1.14999998e+00, -3.30231994e-01, ...,\n           1.06880713e+00, -9.63932266e+01,  1.49811077e+01],\n         [ 9.22322083e+00,  9.73999977e+00, -1.52332813e-01, ...,\n           5.25721237e-02, -1.61434448e+00, -3.22979593e+00],\n         [ 5.02954125e-01, -2.09999993e-01,  1.17179090e-02, ...,\n           2.16013715e-01, -4.63027534e+01, -2.23833084e+00]],\n\n        [[-2.12917256e+00, -1.17999995e+00, -3.39819372e-01, ...,\n           1.02110338e+00, -8.30261536e+01,  1.47574720e+01],\n         [ 9.42679691e+00,  9.72999954e+00, -1.71507582e-01, ...,\n           4.59693410e-02, -2.71210027e+00, -2.86337852e+00],\n         [ 1.15679443e+00, -1.79999992e-01, -1.59789659e-02, ...,\n           2.29308069e-01, -4.71966362e+01, -1.80218542e+00]],\n\n        ...,\n\n        [[ 8.77774715e+00,  8.85999966e+00, -4.06765694e-18, ...,\n          -5.30186415e-01,  2.19229627e+00, -2.38257923e+01],\n         [ 1.38911143e-01, -1.29999995e-01,  2.66316123e-02, ...,\n           5.54930687e-01,  1.96169829e+00,  2.32905865e+01],\n         [-4.43557644e+00, -4.19999981e+00, -3.19579318e-02, ...,\n           6.64213538e-01, -1.21986520e+00,  2.78138809e+01]],\n\n        [[ 8.73942661e+00,  8.85999966e+00,  1.06526446e-02, ...,\n          -5.32685697e-01,  2.17508721e+00, -2.39463787e+01],\n         [ 4.79003927e-03, -1.29999995e-01,  2.55663469e-02, ...,\n           5.55025339e-01,  1.93443191e+00,  2.24314556e+01],\n         [-4.51940203e+00, -4.19999981e+00, -2.55663469e-02, ...,\n           6.65032804e-01, -1.34510982e+00,  2.82016602e+01]],\n\n        [[ 8.77774715e+00,  8.85999966e+00,  1.91747602e-02, ...,\n          -5.33935547e-01,  2.16463423e+00, -2.40000000e+01],\n         [ 1.43701173e-02, -1.29999995e-01,  3.62189934e-02, ...,\n           5.55175781e-01,  1.92073178e+00,  2.20625000e+01],\n         [-4.45234156e+00, -4.19999981e+00, -2.55663469e-02, ...,\n           6.65527344e-01, -1.40243912e+00,  2.83750000e+01]]],\n\n\n       [[[ 8.02331567e-01,  1.16999996e+00, -2.76968759e-02, ...,\n          -1.31835938e-01,  8.81097603e+00, -2.57500000e+01],\n         [ 1.83937502e+00,  1.57999992e+00,  2.23705545e-02, ...,\n           1.02319336e+00,  1.44817076e+01,  3.09375000e+01],\n         [-9.73575497e+00, -9.60999966e+00, -1.17179090e-02, ...,\n           1.72363281e-01, -1.43902445e+01,  3.41250000e+01]],\n\n        [[ 8.47836971e-01,  1.16999996e+00, -2.45010816e-02, ...,\n          -1.32752627e-01,  8.82136440e+00, -2.57553234e+01],\n         [ 1.79386973e+00,  1.58999991e+00,  3.94147858e-02, ...,\n           1.02272749e+00,  1.44447088e+01,  3.09686718e+01],\n         [-9.86987591e+00, -9.60999966e+00, -7.45685119e-03, ...,\n           1.72252133e-01, -1.44058800e+01,  3.41428146e+01]],\n\n        [[ 8.50231946e-01,  1.16999996e+00, -2.66316123e-02, ...,\n          -1.34975940e-01,  8.84534359e+00, -2.57642326e+01],\n         [ 1.82500494e+00,  1.58999991e+00,  2.66316123e-02, ...,\n           1.02095163e+00,  1.43601465e+01,  3.10208321e+01],\n         [-9.69982910e+00, -9.60999966e+00, -7.45685119e-03, ...,\n           1.72415480e-01, -1.44487362e+01,  3.41726265e+01]],\n\n        ...,\n\n        [[ 8.31071794e-01,  1.23000002e+00,  2.13052891e-03, ...,\n           1.31061241e-01,  3.81932110e-01, -2.61857624e+01],\n         [ 1.89446056e+00,  1.71999991e+00, -1.06526446e-03, ...,\n           9.98059213e-01,  7.84427643e-01,  3.03715172e+01],\n         [-9.61600399e+00, -9.57999992e+00,  8.52211565e-03, ...,\n           1.75169080e-01,  1.99260004e-02,  3.38312531e+01]],\n\n        [[ 9.19687510e-01,  1.23000002e+00,  1.06526446e-02, ...,\n           1.30309433e-01,  3.85679394e-01, -2.63529530e+01],\n         [ 1.89206553e+00,  1.71999991e+00,  4.26105782e-03, ...,\n           9.97484267e-01,  9.95286822e-01,  3.07700386e+01],\n         [-9.78365517e+00, -9.57999992e+00, -3.19579337e-03, ...,\n           1.75831094e-01, -4.09534127e-02,  3.37803917e+01]],\n\n        [[ 7.87961483e-01,  1.23000002e+00,  3.19579337e-03, ...,\n           1.29882812e-01,  3.96341473e-01, -2.64375000e+01],\n         [ 1.83698010e+00,  1.71999991e+00,  4.26105782e-03, ...,\n           9.97070312e-01,  1.09756100e+00,  3.09375000e+01],\n         [-9.74533463e+00, -9.57999992e+00,  6.71940732e-18, ...,\n           1.75781250e-01, -6.09756112e-02,  3.37500000e+01]]],\n\n\n       [[[ 1.71004403e+00,  1.39999998e+00,  1.28113510e-17, ...,\n           5.32226562e-02,  2.31707335e+00,  2.38750000e+01],\n         [ 2.28963876e+00,  1.90999997e+00,  6.39158674e-03, ...,\n           8.04199219e-01,  1.40243912e+00,  1.71875000e+01],\n         [-9.58965874e+00, -9.51999950e+00, -1.06526446e-03, ...,\n           5.98144531e-01, -1.21951222e+00,  2.27500000e+01]],\n\n        [[ 1.73878431e+00,  1.39999998e+00,  2.15834781e-17, ...,\n           5.24550863e-02,  2.33023882e+00,  2.40382996e+01],\n         [ 2.20341802e+00,  1.90999997e+00,  1.06526446e-02, ...,\n           8.05351436e-01,  1.42322445e+00,  1.72021751e+01],\n         [-9.56810379e+00, -9.51999950e+00,  2.13052891e-03, ...,\n           5.98217905e-01, -1.16597605e+00,  2.28890095e+01]],\n\n        [[ 1.80584478e+00,  1.39999998e+00,  1.06526446e-02, ...,\n           5.09270616e-02,  2.35697484e+00,  2.44041348e+01],\n         [ 2.16988778e+00,  1.90999997e+00,  4.26105782e-03, ...,\n           8.08191657e-01,  1.47119200e+00,  1.72575932e+01],\n         [-9.59923840e+00, -9.51999950e+00,  3.19579337e-03, ...,\n           5.98400176e-01, -1.04449618e+00,  2.31936264e+01]],\n\n        ...,\n\n        [[ 1.62382329e+00,  1.36000001e+00,  4.26105782e-03, ...,\n          -7.68354237e-02,  1.95425972e-01,  2.57490292e+01],\n         [ 2.45250010e+00,  2.07999992e+00,  6.39158674e-03, ...,\n           8.03486049e-01, -9.53465641e-01,  1.73458443e+01],\n         [-9.62558365e+00, -9.48999977e+00, -7.45685119e-03, ...,\n           6.12283349e-01, -4.24231148e+00,  2.34418964e+01]],\n\n        [[ 1.55915773e+00,  1.36000001e+00,  2.13052891e-03, ...,\n          -7.69521371e-02,  5.09611249e-01,  2.57105160e+01],\n         [ 2.42375994e+00,  2.07999992e+00,  5.32632228e-03, ...,\n           8.06434572e-01, -8.20458949e-01,  1.72351875e+01],\n         [-9.59444904e+00, -9.48999977e+00, -2.13052891e-03, ...,\n           6.11940861e-01, -4.02645922e+00,  2.29703350e+01]],\n\n        [[ 1.49688733e+00,  1.36000001e+00,  7.57179295e-18, ...,\n          -7.69042969e-02,  6.40243888e-01,  2.56875000e+01],\n         [ 2.47645020e+00,  2.07999992e+00,  5.32632228e-03, ...,\n           8.07861328e-01, -7.62195110e-01,  1.71875000e+01],\n         [-9.66869450e+00, -9.48999977e+00,  2.13052891e-03, ...,\n           6.11816406e-01, -3.93292689e+00,  2.27500000e+01]]],\n\n\n       ...,\n\n\n       [[[-6.58630371e-01, -1.33999991e+00,  2.66316123e-02, ...,\n           2.41455078e-01, -3.04878056e-02,  9.37500000e+00],\n         [ 1.06386776e+01,  9.71000004e+00, -3.83495204e-02, ...,\n           9.97802734e-01,  1.89024401e+00, -1.62500000e+01],\n         [ 5.70014656e-01,  3.49999994e-01, -2.23705545e-02, ...,\n           1.56250000e-02, -1.06707323e+00, -3.46875000e+01]],\n\n        [[-6.41865253e-01, -1.33999991e+00,  2.55663469e-02, ...,\n           2.42849827e-01, -2.43690461e-01,  9.38353539e+00],\n         [ 1.07081327e+01,  9.71000004e+00, -1.70442313e-02, ...,\n           1.00237966e+00,  1.84073842e+00, -1.64460354e+01],\n         [ 6.03544950e-01,  3.40000004e-01, -2.13052891e-02, ...,\n           1.60947070e-02, -1.01241255e+00, -3.45209923e+01]],\n\n        [[-6.08334959e-01, -1.33999991e+00,  1.59789659e-02, ...,\n           2.45547608e-01, -8.10690641e-01,  9.39781857e+00],\n         [ 1.06793928e+01,  9.71000004e+00, -1.17179090e-02, ...,\n           1.01151955e+00,  1.61390460e+00, -1.68975124e+01],\n         [ 4.71818864e-01,  3.49999994e-01, -1.70442313e-02, ...,\n           1.63966920e-02, -8.07801127e-01, -3.41394958e+01]],\n\n        ...,\n\n        [[-6.39470220e-01, -1.38000000e+00,  1.70442313e-02, ...,\n           2.44410753e-01, -5.96370101e-01,  1.11161098e+01],\n         [ 1.06458626e+01,  9.71000004e+00,  3.72842550e-02, ...,\n           9.69091117e-01,  6.62370503e-01, -1.69679947e+01],\n         [ 2.96982437e-01, -4.99999970e-02,  1.49137024e-02, ...,\n           2.03623369e-01,  2.14146543e-02, -3.14731884e+01]],\n\n        [[-6.44260287e-01, -1.38000000e+00,  2.23705545e-02, ...,\n           2.43636683e-01, -1.34183919e+00,  1.12114601e+01],\n         [ 1.06602325e+01,  9.71000004e+00,  4.36758436e-02, ...,\n           9.65786576e-01,  2.90274292e-01, -1.67302151e+01],\n         [ 3.13747585e-01, -4.99999970e-02,  1.17179090e-02, ...,\n           2.02884689e-01,  5.81999779e-01, -3.14001846e+01]],\n\n        [[-6.82580590e-01, -1.37000000e+00,  2.55663469e-02, ...,\n           2.43408203e-01, -1.70731711e+00,  1.12500000e+01],\n         [ 1.06099367e+01,  9.71000004e+00,  3.51537280e-02, ...,\n           9.64111328e-01,  1.21951222e-01, -1.66250000e+01],\n         [ 3.90388191e-01, -4.99999970e-02,  1.17179090e-02, ...,\n           2.02636719e-01,  8.23170781e-01, -3.13750000e+01]]],\n\n\n       [[[ 2.03097653e+00,  2.53999996e+00,  4.30366844e-01, ...,\n          -2.39257812e-02, -6.49390268e+00, -2.41250000e+01],\n         [-1.73399425e+00, -1.30999994e+00, -2.70577163e-01, ...,\n           9.86083984e-01,  1.29268293e+01,  5.48750000e+01],\n         [-9.18729496e+00, -9.38000011e+00, -5.17718554e-01, ...,\n           2.75878906e-02, -1.40243902e+01,  3.63125000e+01]],\n\n        [[ 2.02139664e+00,  2.52999997e+00,  4.00539428e-01, ...,\n          -2.36858483e-02, -6.28948689e+00, -2.41668549e+01],\n         [-1.67890871e+00, -1.31999993e+00, -2.57793993e-01, ...,\n           9.82870936e-01,  1.30183554e+01,  5.48414726e+01],\n         [-9.06514931e+00, -9.38000011e+00, -5.12392223e-01, ...,\n           2.51728185e-02, -1.40948124e+01,  3.63810997e+01]],\n\n        [[ 2.19383788e+00,  2.51999998e+00,  3.74973089e-01, ...,\n          -2.24625710e-02, -5.53300333e+00, -2.42677536e+01],\n         [-1.60705817e+00, -1.33999991e+00, -2.38619238e-01, ...,\n           9.75413084e-01,  1.33347359e+01,  5.47596550e+01],\n         [-9.08191490e+00, -9.38000011e+00, -4.91086900e-01, ...,\n           2.11887248e-02, -1.42125473e+01,  3.65267487e+01]],\n\n        ...,\n\n        [[ 2.78540778e+00,  3.14999986e+00,  2.13052891e-03, ...,\n           1.95253696e-02,  5.82702293e+01, -2.67613182e+01],\n         [ 1.50886238e+00,  1.38999999e+00,  3.19579337e-03, ...,\n           8.96811008e-01,  9.16838989e+01,  4.21614571e+01],\n         [-9.45793247e+00, -9.17999935e+00, -3.19579337e-03, ...,\n           8.53595510e-02,  3.68815880e+01,  3.58748283e+01]],\n\n        [[ 2.89797378e+00,  3.14999986e+00, -2.13052891e-03, ...,\n           5.21628838e-03,  5.81653175e+01, -2.67542343e+01],\n         [ 1.50407231e+00,  1.38999999e+00,  3.19579337e-03, ...,\n           8.86479497e-01,  9.15182266e+01,  4.23066673e+01],\n         [-9.49864769e+00, -9.17999935e+00,  1.06526446e-03, ...,\n           7.48780966e-02,  3.83287315e+01,  3.56152000e+01]],\n\n        [[ 2.85725832e+00,  3.14999986e+00,  3.19579337e-03, ...,\n          -4.88281250e-04,  5.80182953e+01, -2.67500000e+01],\n         [ 1.59987307e+00,  1.38999999e+00, -1.06526446e-03, ...,\n           8.80371094e-01,  9.13719559e+01,  4.23750000e+01],\n         [-9.39087200e+00, -9.17999935e+00, -2.13052891e-03, ...,\n           7.10449219e-02,  3.89329262e+01,  3.55000000e+01]]],\n\n\n       [[[ 2.38543963e+00,  1.66999996e+00, -2.87621394e-02, ...,\n           9.26513672e-01, -1.41158543e+01,  7.00000000e+00],\n         [ 1.05093460e+01,  9.65999985e+00, -1.27831735e-02, ...,\n           2.72705078e-01, -7.92682946e-01, -1.80000000e+01],\n         [-3.11352551e-01, -1.79999992e-01, -8.52211565e-03, ...,\n           2.33154297e-01,  5.67073202e+00, -8.50000000e+00]],\n\n        [[ 2.31119394e+00,  1.66999996e+00, -3.19579318e-02, ...,\n           9.28068936e-01, -1.39026299e+01,  7.04377604e+00],\n         [ 1.05692215e+01,  9.65999985e+00, -1.17179090e-02, ...,\n           2.72672862e-01, -8.26260984e-01, -1.81862640e+01],\n         [-3.11352551e-01, -1.79999992e-01, -8.52211565e-03, ...,\n           2.34058186e-01,  5.99424458e+00, -8.51146030e+00]],\n\n        [[ 2.35669923e+00,  1.66999996e+00, -2.87621394e-02, ...,\n           9.31965888e-01, -1.34449615e+01,  7.14274502e+00],\n         [ 1.04901857e+01,  9.65999985e+00, -5.32632228e-03, ...,\n           2.72969246e-01, -9.55271304e-01, -1.85905304e+01],\n         [-2.49082044e-01, -1.79999992e-01, -3.19579337e-03, ...,\n           2.36104608e-01,  6.69806433e+00, -8.53063679e+00]],\n\n        ...,\n\n        [[ 2.22257829e+00,  1.50000000e+00, -1.38484379e-02, ...,\n           9.31055546e-01, -1.42995143e+00,  8.42972088e+00],\n         [ 1.04303102e+01,  9.68999958e+00,  7.45685119e-03, ...,\n           2.70974070e-01,  1.36811107e-01, -1.86282406e+01],\n         [-2.41896987e-01, -1.29999995e-01, -4.26105782e-03, ...,\n           2.68455148e-01,  5.21947682e-01, -8.98109245e+00]],\n\n        [[ 2.29442883e+00,  1.50000000e+00, -1.59789659e-02, ...,\n           9.31103766e-01, -1.24330306e+00,  8.17677689e+00],\n         [ 1.05500612e+01,  9.68999958e+00, -1.06526446e-03, ...,\n           2.70427942e-01,  1.70072585e-01, -1.84466400e+01],\n         [-2.61057138e-01, -1.29999995e-01,  5.32632228e-03, ...,\n           2.68681288e-01,  4.98080283e-01, -8.64340401e+00]],\n\n        [[ 2.33514404e+00,  1.50000000e+00, -1.81094967e-02, ...,\n           9.31152344e-01, -1.15853667e+00,  8.06250000e+00],\n         [ 1.05213213e+01,  9.68999958e+00,  2.13052891e-03, ...,\n           2.70263672e-01,  1.82926834e-01, -1.83750000e+01],\n         [-1.48491219e-01, -1.29999995e-01,  4.26105782e-03, ...,\n           2.68798828e-01,  4.87804890e-01, -8.50000000e+00]]]],\n      dtype=float32)"
     },
     "execution_count": 27,
     "metadata": {},
     "output_type": "execute_result"
    }
   ],
   "source": [
    "dsl.get_dataset(save=True, folder=Config.DATABASE_FOLDER_TRAIN)\n",
    "dsl.get_dataset(save=True, folder=Config.DATABASE_FOLDER_TEST)"
   ]
  },
  {
   "cell_type": "code",
   "execution_count": 28,
   "metadata": {},
   "outputs": [
    {
     "name": "stdout",
     "output_type": "stream",
     "text": [
      "cuda\n"
     ]
    }
   ],
   "source": [
    "device = 'cuda' if torch.cuda.is_available() else 'cpu'\n",
    "print(device)"
   ]
  },
  {
   "cell_type": "code",
   "execution_count": 29,
   "metadata": {},
   "outputs": [],
   "source": [
    "train_dl = dsl.get_dataloader(is_train=True, batch_size=Config.batch_size)\n",
    "test_dl = dsl.get_dataloader(is_train=False, batch_size=Config.batch_size)"
   ]
  },
  {
   "cell_type": "code",
   "execution_count": 30,
   "metadata": {},
   "outputs": [
    {
     "data": {
      "text/plain": "True"
     },
     "execution_count": 30,
     "metadata": {},
     "output_type": "execute_result"
    }
   ],
   "source": [
    "#define mode\n",
    "model = mobilenet_v2(pretrained=True)\n",
    "\n",
    "model.features[0][0] = nn.Conv2d(9, 32, kernel_size=(3, 3), stride=(2, 2), padding=(1, 1), bias=False)\n",
    "model.classifier[1] = nn.Linear(in_features=model.classifier[1].in_features, out_features=Config.CLASSES)\n",
    "\n",
    "model.to(device)\n",
    "\n",
    "# define optimizer\n",
    "#optimizer = torch.optim.Adam(model.parameters(), lr=Config.learn_rate, weight_decay=Config.weight_decay)\n",
    "optimizer = torch.optim.Adam(model.parameters(), lr=Config.learn_rate)\n",
    "# define loss function\n",
    "loss_function = nn.CrossEntropyLoss()\n",
    "\n",
    "next(model.parameters()).is_cuda"
   ]
  },
  {
   "cell_type": "code",
   "execution_count": 31,
   "metadata": {},
   "outputs": [
    {
     "name": "stdout",
     "output_type": "stream",
     "text": [
      "===> Epoch: 0 loss: 3.3663\n",
      "===> Epoch: 1 loss: 2.6176\n",
      "===> Epoch: 2 loss: 2.6290\n",
      "===> Epoch: 3 loss: 2.7042\n",
      "===> Epoch: 4 loss: 1.8554\n",
      "===> Epoch: 5 loss: 1.5142\n",
      "===> Epoch: 6 loss: 2.0101\n",
      "===> Epoch: 7 loss: 1.5835\n",
      "===> Epoch: 8 loss: 1.9213\n",
      "===> Epoch: 9 loss: 1.3722\n",
      "===> Epoch: 10 loss: 0.9603\n",
      "===> Epoch: 11 loss: 1.0413\n",
      "===> Epoch: 12 loss: 1.3740\n",
      "===> Epoch: 13 loss: 0.7219\n",
      "===> Epoch: 14 loss: 0.8354\n",
      "===> Epoch: 15 loss: 1.9678\n",
      "===> Epoch: 16 loss: 0.7480\n",
      "===> Epoch: 17 loss: 1.2060\n",
      "===> Epoch: 18 loss: 1.3391\n",
      "===> Epoch: 19 loss: 0.9313\n"
     ]
    },
    {
     "data": {
      "text/plain": "<Figure size 432x288 with 1 Axes>",
      "image/png": "[encoded data removed]"
     },
     "metadata": {
      "needs_background": "light"
     },
     "output_type": "display_data"
    }
   ],
   "source": [
    "loss_ls_train = []\n",
    "model.train()\n",
    "\n",
    "for epoch in range(Config.epochs):\n",
    "    for data, labels in train_dl:\n",
    "        data, labels = data.to(device), labels.to(device)\n",
    "\n",
    "        optimizer.zero_grad()\n",
    "        data = data.permute(0, 3, 1, 2)\n",
    "\n",
    "        prediction = model(data)\n",
    "\n",
    "        loss = loss_function(prediction, labels)\n",
    "        loss.backward()\n",
    "        optimizer.step()\n",
    "\n",
    "        loss_ls_train.append(loss.data.item())\n",
    "\n",
    "    print('===> Epoch: {} loss: {:.4f}'.format(epoch, loss.data.item()))\n",
    "\n",
    "plt.plot(loss_ls_train)\n",
    "plt.show()"
   ]
  },
  {
   "cell_type": "code",
   "execution_count": 32,
   "metadata": {},
   "outputs": [
    {
     "name": "stderr",
     "output_type": "stream",
     "text": [
      "<ipython-input-32-ea45365a205c>:13: UserWarning: Implicit dimension choice for softmax has been deprecated. Change the call to include dim=X as an argument.\n",
      "  softmax_v = F.softmax(model(data))\n"
     ]
    },
    {
     "name": "stdout",
     "output_type": "stream",
     "text": [
      "Number of correct predictions: 1244\n",
      "Number of Predictions:2288\n",
      "Accuracy: 0.5437062937062938\n",
      "MAP: 0.33144095809095436\n"
     ]
    }
   ],
   "source": [
    "#model = torch.load('/Users/falcolentzsch/Develope/MDS4AGT/krasses_model.pt',map_location=device)\n",
    "# Start Evaluation\n",
    "model.eval()\n",
    "correct_pred = 0\n",
    "num_pred = 0\n",
    "map_sum = 0\n",
    "count = 0\n",
    "\n",
    "for data, label in test_dl:\n",
    "    data, label = data.to(device), label.to(device)\n",
    "\n",
    "    data = data.permute(0, 3, 1, 2)\n",
    "    softmax_v = F.softmax(model(data))\n",
    "    pred = torch.argmax(softmax_v, dim=1)\n",
    "\n",
    "    num_pred += len(label)\n",
    "    correct_pred = correct_pred + torch.eq(pred,label).sum().data.item()\n",
    "\n",
    "    tmp_map, _ = computeMeanAveragePrecision(label.detach().cpu().numpy(), softmax_v.detach().cpu().numpy())\n",
    "    map_sum += tmp_map\n",
    "    count +=1\n",
    "\n",
    "print('Number of correct predictions: ' + str(correct_pred))\n",
    "print('Number of Predictions:' + str(num_pred))\n",
    "print('Accuracy: ' + str(correct_pred/num_pred))\n",
    "print('MAP: ' + str(map_sum/count))"
   ]
  },
  {
   "cell_type": "code",
   "execution_count": 19,
   "metadata": {},
   "outputs": [
    {
     "data": {
      "text/plain": "MobileNetV2(\n  (features): Sequential(\n    (0): ConvBNActivation(\n      (0): Conv2d(9, 32, kernel_size=(3, 3), stride=(2, 2), padding=(1, 1), bias=False)\n      (1): BatchNorm2d(32, eps=1e-05, momentum=0.1, affine=True, track_running_stats=True)\n      (2): ReLU6(inplace=True)\n    )\n    (1): InvertedResidual(\n      (conv): Sequential(\n        (0): ConvBNActivation(\n          (0): Conv2d(32, 32, kernel_size=(3, 3), stride=(1, 1), padding=(1, 1), groups=32, bias=False)\n          (1): BatchNorm2d(32, eps=1e-05, momentum=0.1, affine=True, track_running_stats=True)\n          (2): ReLU6(inplace=True)\n        )\n        (1): Conv2d(32, 16, kernel_size=(1, 1), stride=(1, 1), bias=False)\n        (2): BatchNorm2d(16, eps=1e-05, momentum=0.1, affine=True, track_running_stats=True)\n      )\n    )\n    (2): InvertedResidual(\n      (conv): Sequential(\n        (0): ConvBNActivation(\n          (0): Conv2d(16, 96, kernel_size=(1, 1), stride=(1, 1), bias=False)\n          (1): BatchNorm2d(96, eps=1e-05, momentum=0.1, affine=True, track_running_stats=True)\n          (2): ReLU6(inplace=True)\n        )\n        (1): ConvBNActivation(\n          (0): Conv2d(96, 96, kernel_size=(3, 3), stride=(2, 2), padding=(1, 1), groups=96, bias=False)\n          (1): BatchNorm2d(96, eps=1e-05, momentum=0.1, affine=True, track_running_stats=True)\n          (2): ReLU6(inplace=True)\n        )\n        (2): Conv2d(96, 24, kernel_size=(1, 1), stride=(1, 1), bias=False)\n        (3): BatchNorm2d(24, eps=1e-05, momentum=0.1, affine=True, track_running_stats=True)\n      )\n    )\n    (3): InvertedResidual(\n      (conv): Sequential(\n        (0): ConvBNActivation(\n          (0): Conv2d(24, 144, kernel_size=(1, 1), stride=(1, 1), bias=False)\n          (1): BatchNorm2d(144, eps=1e-05, momentum=0.1, affine=True, track_running_stats=True)\n          (2): ReLU6(inplace=True)\n        )\n        (1): ConvBNActivation(\n          (0): Conv2d(144, 144, kernel_size=(3, 3), stride=(1, 1), padding=(1, 1), groups=144, bias=False)\n          (1): BatchNorm2d(144, eps=1e-05, momentum=0.1, affine=True, track_running_stats=True)\n          (2): ReLU6(inplace=True)\n        )\n        (2): Conv2d(144, 24, kernel_size=(1, 1), stride=(1, 1), bias=False)\n        (3): BatchNorm2d(24, eps=1e-05, momentum=0.1, affine=True, track_running_stats=True)\n      )\n    )\n    (4): InvertedResidual(\n      (conv): Sequential(\n        (0): ConvBNActivation(\n          (0): Conv2d(24, 144, kernel_size=(1, 1), stride=(1, 1), bias=False)\n          (1): BatchNorm2d(144, eps=1e-05, momentum=0.1, affine=True, track_running_stats=True)\n          (2): ReLU6(inplace=True)\n        )\n        (1): ConvBNActivation(\n          (0): Conv2d(144, 144, kernel_size=(3, 3), stride=(2, 2), padding=(1, 1), groups=144, bias=False)\n          (1): BatchNorm2d(144, eps=1e-05, momentum=0.1, affine=True, track_running_stats=True)\n          (2): ReLU6(inplace=True)\n        )\n        (2): Conv2d(144, 32, kernel_size=(1, 1), stride=(1, 1), bias=False)\n        (3): BatchNorm2d(32, eps=1e-05, momentum=0.1, affine=True, track_running_stats=True)\n      )\n    )\n    (5): InvertedResidual(\n      (conv): Sequential(\n        (0): ConvBNActivation(\n          (0): Conv2d(32, 192, kernel_size=(1, 1), stride=(1, 1), bias=False)\n          (1): BatchNorm2d(192, eps=1e-05, momentum=0.1, affine=True, track_running_stats=True)\n          (2): ReLU6(inplace=True)\n        )\n        (1): ConvBNActivation(\n          (0): Conv2d(192, 192, kernel_size=(3, 3), stride=(1, 1), padding=(1, 1), groups=192, bias=False)\n          (1): BatchNorm2d(192, eps=1e-05, momentum=0.1, affine=True, track_running_stats=True)\n          (2): ReLU6(inplace=True)\n        )\n        (2): Conv2d(192, 32, kernel_size=(1, 1), stride=(1, 1), bias=False)\n        (3): BatchNorm2d(32, eps=1e-05, momentum=0.1, affine=True, track_running_stats=True)\n      )\n    )\n    (6): InvertedResidual(\n      (conv): Sequential(\n        (0): ConvBNActivation(\n          (0): Conv2d(32, 192, kernel_size=(1, 1), stride=(1, 1), bias=False)\n          (1): BatchNorm2d(192, eps=1e-05, momentum=0.1, affine=True, track_running_stats=True)\n          (2): ReLU6(inplace=True)\n        )\n        (1): ConvBNActivation(\n          (0): Conv2d(192, 192, kernel_size=(3, 3), stride=(1, 1), padding=(1, 1), groups=192, bias=False)\n          (1): BatchNorm2d(192, eps=1e-05, momentum=0.1, affine=True, track_running_stats=True)\n          (2): ReLU6(inplace=True)\n        )\n        (2): Conv2d(192, 32, kernel_size=(1, 1), stride=(1, 1), bias=False)\n        (3): BatchNorm2d(32, eps=1e-05, momentum=0.1, affine=True, track_running_stats=True)\n      )\n    )\n    (7): InvertedResidual(\n      (conv): Sequential(\n        (0): ConvBNActivation(\n          (0): Conv2d(32, 192, kernel_size=(1, 1), stride=(1, 1), bias=False)\n          (1): BatchNorm2d(192, eps=1e-05, momentum=0.1, affine=True, track_running_stats=True)\n          (2): ReLU6(inplace=True)\n        )\n        (1): ConvBNActivation(\n          (0): Conv2d(192, 192, kernel_size=(3, 3), stride=(2, 2), padding=(1, 1), groups=192, bias=False)\n          (1): BatchNorm2d(192, eps=1e-05, momentum=0.1, affine=True, track_running_stats=True)\n          (2): ReLU6(inplace=True)\n        )\n        (2): Conv2d(192, 64, kernel_size=(1, 1), stride=(1, 1), bias=False)\n        (3): BatchNorm2d(64, eps=1e-05, momentum=0.1, affine=True, track_running_stats=True)\n      )\n    )\n    (8): InvertedResidual(\n      (conv): Sequential(\n        (0): ConvBNActivation(\n          (0): Conv2d(64, 384, kernel_size=(1, 1), stride=(1, 1), bias=False)\n          (1): BatchNorm2d(384, eps=1e-05, momentum=0.1, affine=True, track_running_stats=True)\n          (2): ReLU6(inplace=True)\n        )\n        (1): ConvBNActivation(\n          (0): Conv2d(384, 384, kernel_size=(3, 3), stride=(1, 1), padding=(1, 1), groups=384, bias=False)\n          (1): BatchNorm2d(384, eps=1e-05, momentum=0.1, affine=True, track_running_stats=True)\n          (2): ReLU6(inplace=True)\n        )\n        (2): Conv2d(384, 64, kernel_size=(1, 1), stride=(1, 1), bias=False)\n        (3): BatchNorm2d(64, eps=1e-05, momentum=0.1, affine=True, track_running_stats=True)\n      )\n    )\n    (9): InvertedResidual(\n      (conv): Sequential(\n        (0): ConvBNActivation(\n          (0): Conv2d(64, 384, kernel_size=(1, 1), stride=(1, 1), bias=False)\n          (1): BatchNorm2d(384, eps=1e-05, momentum=0.1, affine=True, track_running_stats=True)\n          (2): ReLU6(inplace=True)\n        )\n        (1): ConvBNActivation(\n          (0): Conv2d(384, 384, kernel_size=(3, 3), stride=(1, 1), padding=(1, 1), groups=384, bias=False)\n          (1): BatchNorm2d(384, eps=1e-05, momentum=0.1, affine=True, track_running_stats=True)\n          (2): ReLU6(inplace=True)\n        )\n        (2): Conv2d(384, 64, kernel_size=(1, 1), stride=(1, 1), bias=False)\n        (3): BatchNorm2d(64, eps=1e-05, momentum=0.1, affine=True, track_running_stats=True)\n      )\n    )\n    (10): InvertedResidual(\n      (conv): Sequential(\n        (0): ConvBNActivation(\n          (0): Conv2d(64, 384, kernel_size=(1, 1), stride=(1, 1), bias=False)\n          (1): BatchNorm2d(384, eps=1e-05, momentum=0.1, affine=True, track_running_stats=True)\n          (2): ReLU6(inplace=True)\n        )\n        (1): ConvBNActivation(\n          (0): Conv2d(384, 384, kernel_size=(3, 3), stride=(1, 1), padding=(1, 1), groups=384, bias=False)\n          (1): BatchNorm2d(384, eps=1e-05, momentum=0.1, affine=True, track_running_stats=True)\n          (2): ReLU6(inplace=True)\n        )\n        (2): Conv2d(384, 64, kernel_size=(1, 1), stride=(1, 1), bias=False)\n        (3): BatchNorm2d(64, eps=1e-05, momentum=0.1, affine=True, track_running_stats=True)\n      )\n    )\n    (11): InvertedResidual(\n      (conv): Sequential(\n        (0): ConvBNActivation(\n          (0): Conv2d(64, 384, kernel_size=(1, 1), stride=(1, 1), bias=False)\n          (1): BatchNorm2d(384, eps=1e-05, momentum=0.1, affine=True, track_running_stats=True)\n          (2): ReLU6(inplace=True)\n        )\n        (1): ConvBNActivation(\n          (0): Conv2d(384, 384, kernel_size=(3, 3), stride=(1, 1), padding=(1, 1), groups=384, bias=False)\n          (1): BatchNorm2d(384, eps=1e-05, momentum=0.1, affine=True, track_running_stats=True)\n          (2): ReLU6(inplace=True)\n        )\n        (2): Conv2d(384, 96, kernel_size=(1, 1), stride=(1, 1), bias=False)\n        (3): BatchNorm2d(96, eps=1e-05, momentum=0.1, affine=True, track_running_stats=True)\n      )\n    )\n    (12): InvertedResidual(\n      (conv): Sequential(\n        (0): ConvBNActivation(\n          (0): Conv2d(96, 576, kernel_size=(1, 1), stride=(1, 1), bias=False)\n          (1): BatchNorm2d(576, eps=1e-05, momentum=0.1, affine=True, track_running_stats=True)\n          (2): ReLU6(inplace=True)\n        )\n        (1): ConvBNActivation(\n          (0): Conv2d(576, 576, kernel_size=(3, 3), stride=(1, 1), padding=(1, 1), groups=576, bias=False)\n          (1): BatchNorm2d(576, eps=1e-05, momentum=0.1, affine=True, track_running_stats=True)\n          (2): ReLU6(inplace=True)\n        )\n        (2): Conv2d(576, 96, kernel_size=(1, 1), stride=(1, 1), bias=False)\n        (3): BatchNorm2d(96, eps=1e-05, momentum=0.1, affine=True, track_running_stats=True)\n      )\n    )\n    (13): InvertedResidual(\n      (conv): Sequential(\n        (0): ConvBNActivation(\n          (0): Conv2d(96, 576, kernel_size=(1, 1), stride=(1, 1), bias=False)\n          (1): BatchNorm2d(576, eps=1e-05, momentum=0.1, affine=True, track_running_stats=True)\n          (2): ReLU6(inplace=True)\n        )\n        (1): ConvBNActivation(\n          (0): Conv2d(576, 576, kernel_size=(3, 3), stride=(1, 1), padding=(1, 1), groups=576, bias=False)\n          (1): BatchNorm2d(576, eps=1e-05, momentum=0.1, affine=True, track_running_stats=True)\n          (2): ReLU6(inplace=True)\n        )\n        (2): Conv2d(576, 96, kernel_size=(1, 1), stride=(1, 1), bias=False)\n        (3): BatchNorm2d(96, eps=1e-05, momentum=0.1, affine=True, track_running_stats=True)\n      )\n    )\n    (14): InvertedResidual(\n      (conv): Sequential(\n        (0): ConvBNActivation(\n          (0): Conv2d(96, 576, kernel_size=(1, 1), stride=(1, 1), bias=False)\n          (1): BatchNorm2d(576, eps=1e-05, momentum=0.1, affine=True, track_running_stats=True)\n          (2): ReLU6(inplace=True)\n        )\n        (1): ConvBNActivation(\n          (0): Conv2d(576, 576, kernel_size=(3, 3), stride=(2, 2), padding=(1, 1), groups=576, bias=False)\n          (1): BatchNorm2d(576, eps=1e-05, momentum=0.1, affine=True, track_running_stats=True)\n          (2): ReLU6(inplace=True)\n        )\n        (2): Conv2d(576, 160, kernel_size=(1, 1), stride=(1, 1), bias=False)\n        (3): BatchNorm2d(160, eps=1e-05, momentum=0.1, affine=True, track_running_stats=True)\n      )\n    )\n    (15): InvertedResidual(\n      (conv): Sequential(\n        (0): ConvBNActivation(\n          (0): Conv2d(160, 960, kernel_size=(1, 1), stride=(1, 1), bias=False)\n          (1): BatchNorm2d(960, eps=1e-05, momentum=0.1, affine=True, track_running_stats=True)\n          (2): ReLU6(inplace=True)\n        )\n        (1): ConvBNActivation(\n          (0): Conv2d(960, 960, kernel_size=(3, 3), stride=(1, 1), padding=(1, 1), groups=960, bias=False)\n          (1): BatchNorm2d(960, eps=1e-05, momentum=0.1, affine=True, track_running_stats=True)\n          (2): ReLU6(inplace=True)\n        )\n        (2): Conv2d(960, 160, kernel_size=(1, 1), stride=(1, 1), bias=False)\n        (3): BatchNorm2d(160, eps=1e-05, momentum=0.1, affine=True, track_running_stats=True)\n      )\n    )\n    (16): InvertedResidual(\n      (conv): Sequential(\n        (0): ConvBNActivation(\n          (0): Conv2d(160, 960, kernel_size=(1, 1), stride=(1, 1), bias=False)\n          (1): BatchNorm2d(960, eps=1e-05, momentum=0.1, affine=True, track_running_stats=True)\n          (2): ReLU6(inplace=True)\n        )\n        (1): ConvBNActivation(\n          (0): Conv2d(960, 960, kernel_size=(3, 3), stride=(1, 1), padding=(1, 1), groups=960, bias=False)\n          (1): BatchNorm2d(960, eps=1e-05, momentum=0.1, affine=True, track_running_stats=True)\n          (2): ReLU6(inplace=True)\n        )\n        (2): Conv2d(960, 160, kernel_size=(1, 1), stride=(1, 1), bias=False)\n        (3): BatchNorm2d(160, eps=1e-05, momentum=0.1, affine=True, track_running_stats=True)\n      )\n    )\n    (17): InvertedResidual(\n      (conv): Sequential(\n        (0): ConvBNActivation(\n          (0): Conv2d(160, 960, kernel_size=(1, 1), stride=(1, 1), bias=False)\n          (1): BatchNorm2d(960, eps=1e-05, momentum=0.1, affine=True, track_running_stats=True)\n          (2): ReLU6(inplace=True)\n        )\n        (1): ConvBNActivation(\n          (0): Conv2d(960, 960, kernel_size=(3, 3), stride=(1, 1), padding=(1, 1), groups=960, bias=False)\n          (1): BatchNorm2d(960, eps=1e-05, momentum=0.1, affine=True, track_running_stats=True)\n          (2): ReLU6(inplace=True)\n        )\n        (2): Conv2d(960, 320, kernel_size=(1, 1), stride=(1, 1), bias=False)\n        (3): BatchNorm2d(320, eps=1e-05, momentum=0.1, affine=True, track_running_stats=True)\n      )\n    )\n    (18): ConvBNActivation(\n      (0): Conv2d(320, 1280, kernel_size=(1, 1), stride=(1, 1), bias=False)\n      (1): BatchNorm2d(1280, eps=1e-05, momentum=0.1, affine=True, track_running_stats=True)\n      (2): ReLU6(inplace=True)\n    )\n  )\n  (classifier): Sequential(\n    (0): Dropout(p=0.2, inplace=False)\n    (1): Linear(in_features=1280, out_features=55, bias=True)\n  )\n)"
     },
     "execution_count": 19,
     "metadata": {},
     "output_type": "execute_result"
    }
   ],
   "source": [
    "model.eval()"
   ]
  },
  {
   "cell_type": "code",
   "execution_count": null,
   "outputs": [],
   "source": [],
   "metadata": {
    "collapsed": false,
    "pycharm": {
     "name": "#%%\n"
    }
   }
  }
 ]
}