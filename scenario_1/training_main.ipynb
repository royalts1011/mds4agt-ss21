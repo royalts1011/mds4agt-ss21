{
 "metadata": {
  "language_info": {
   "codemirror_mode": {
    "name": "ipython",
    "version": 3
   },
   "file_extension": ".py",
   "mimetype": "text/x-python",
   "name": "python",
   "nbconvert_exporter": "python",
   "pygments_lexer": "ipython3",
   "version": "3.9.4"
  },
  "orig_nbformat": 2,
  "kernelspec": {
   "name": "python394jvsc74a57bd0dde869bc53dc37e72242ec8c3f431002a72ea4d7c69a356217da4f58b4e517b0",
   "display_name": "Python 3.9.4 64-bit ('MedDS')"
  },
  "metadata": {
   "interpreter": {
    "hash": "dde869bc53dc37e72242ec8c3f431002a72ea4d7c69a356217da4f58b4e517b0"
   }
  }
 },
 "nbformat": 4,
 "nbformat_minor": 2,
 "cells": [
  {
   "cell_type": "code",
   "execution_count": null,
   "metadata": {},
   "outputs": [],
   "source": [
    "import ds_loader as dsl\n",
    "import numpy\n",
    "\n",
    "import torch\n",
    "import torchvision\n",
    "import torch.nn as nn\n",
    "import torch.nn.functional as F\n",
    "from torchvision.utils import make_grid\n",
    "from torchvision.models.mobilenet import mobilenet_v2\n"
   ]
  },
  {
   "cell_type": "code",
   "execution_count": null,
   "metadata": {},
   "outputs": [],
   "source": [
    "class Config():\n",
    "    batch_size = 32\n",
    "    epochs = 200\n",
    "    learn_rate = 0.001\n",
    "    CLASSES = 55\n",
    "    weight_decay = 0.001"
   ]
  },
  {
   "cell_type": "code",
   "execution_count": null,
   "metadata": {},
   "outputs": [],
   "source": [
    "device = 'cuda' if torch.cuda.is_available() else 'cpu'"
   ]
  },
  {
   "cell_type": "code",
   "execution_count": null,
   "metadata": {},
   "outputs": [],
   "source": [
    "train_dl = dsl.get_dataloader(is_train=True, batch_size=Config.batch_size)\n",
    "\n",
    "test_dl = dsl.get_dataloader(is_train=False, batch_size=Config.batch_size)"
   ]
  },
  {
   "cell_type": "code",
   "execution_count": null,
   "metadata": {},
   "outputs": [],
   "source": [
    "#define mode\n",
    "model = mobilenet_v2(pretrained=True)\n",
    "model.to(device)\n",
    "model.features[0][0] = nn.Conv2d(9, 32, kernel_size=(3, 3), stride=(2, 2), padding=(1, 1), bias=False)\n",
    "model.classifier[1] = nn.Linear(in_features=model.classifier[1].in_features, out_features=Config.CLASSES)\n",
    "\n",
    "# define optimizer\n",
    "optimizer = torch.optim.Adam(model.parameters(), lr=Config.learn_rate, weight_decay=Config.weight_decay)\n",
    "# define loss function\n",
    "loss_function = nn.CrossEntropyLoss()\n",
    "\n"
   ]
  },
  {
   "cell_type": "code",
   "execution_count": null,
   "metadata": {},
   "outputs": [],
   "source": [
    "loss_ls_train = []\n",
    "model.train()\n",
    "\n",
    "for epoch in range(Config.epochs):\n",
    "    for data, labels in train_dl:\n",
    "\n",
    "        optimizer.zero_grad()\n",
    "        data = data.permute(0, 3, 1, 2)\n",
    "\n",
    "        prediction = model(data)\n",
    "\n",
    "        loss = loss_function(prediction, labels)\n",
    "        loss.backward()\n",
    "        optimizer.step()\n",
    "\n",
    "        loss_ls_train.append(loss.data.item())\n",
    "\n",
    "    print('===> Epoch: {} loss: {:.4f}'.format(epoch, loss.data.item()))\n",
    "\n",
    "plt.plot(loss_ls_train)\n",
    "plt.show()"
   ]
  },
  {
   "cell_type": "code",
   "execution_count": null,
   "metadata": {},
   "outputs": [],
   "source": [
    "# Start Evaluation\n",
    "model.eval()\n",
    "correct_pred = 0\n",
    "num_pred = 0\n",
    "\n",
    "for data, label in test_dl:\n",
    "    pred = torch.argmax(model(data))\n",
    "    num_pred += 1\n",
    "\n",
    "\n",
    "    if pred.data.item() == label.data.item():\n",
    "        correct_pred += 1\n",
    "\n",
    "print('Number of correct predictions: ' + str(correct_pred))\n",
    "print('Number of Predictions:' + str(num_pred))\n",
    "print('Portion: ' + str(correct_pred/num_pred))"
   ]
  }
 ]
}